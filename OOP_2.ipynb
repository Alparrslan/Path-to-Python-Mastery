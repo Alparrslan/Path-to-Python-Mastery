{
 "cells": [
  {
   "cell_type": "markdown",
   "id": "f35fb716",
   "metadata": {},
   "source": [
    "# Object-Oriented Programming in Python"
   ]
  },
  {
   "cell_type": "code",
   "execution_count": null,
   "id": "6dec1d9d",
   "metadata": {},
   "outputs": [],
   "source": [
    "class Engine:\n",
    "    def start(self):\n",
    "        print(\"Engine started\")"
   ]
  },
  {
   "cell_type": "code",
   "execution_count": null,
   "id": "26f1f632",
   "metadata": {},
   "outputs": [],
   "source": [
    "class Car:\n",
    "    def __init__(self):\n",
    "        self.engine = Engine()\n",
    "    def drive(self):\n",
    "        self.engine.start()\n",
    "        print(\"Car is moving\")"
   ]
  },
  {
   "cell_type": "code",
   "execution_count": null,
   "id": "a17f91e6",
   "metadata": {},
   "outputs": [],
   "source": [
    "c = Car()\n",
    "c.drive()"
   ]
  },
  {
   "cell_type": "code",
   "execution_count": null,
   "id": "c65a5ba6",
   "metadata": {},
   "outputs": [],
   "source": [
    "class Employee:\n",
    "    def __init__(self, name, salary):\n",
    "        self.name = name\n",
    "        self.salary = salary"
   ]
  },
  {
   "cell_type": "code",
   "execution_count": null,
   "id": "658fc484",
   "metadata": {},
   "outputs": [],
   "source": [
    "e = Employee(\"John\", 5000)\n",
    "print(e.name, e.salary)"
   ]
  },
  {
   "cell_type": "code",
   "execution_count": null,
   "id": "bf97de5d",
   "metadata": {},
   "outputs": [],
   "source": [
    "class Developer(Employee):\n",
    "    def __init__(self, name, salary, language):\n",
    "        super().__init__(name, salary)\n",
    "        self.language = language"
   ]
  },
  {
   "cell_type": "code",
   "execution_count": null,
   "id": "c83d7c59",
   "metadata": {},
   "outputs": [],
   "source": [
    "dev = Developer(\"Alice\", 7000, \"Python\")\n",
    "print(dev.language)"
   ]
  },
  {
   "cell_type": "code",
   "execution_count": null,
   "id": "46b1bd6b",
   "metadata": {},
   "outputs": [],
   "source": [
    "class Manager(Employee):\n",
    "    def __init__(self, name, salary, team=[]):\n",
    "        super().__init__(name, salary)\n",
    "        self.team = team"
   ]
  },
  {
   "cell_type": "code",
   "execution_count": null,
   "id": "acd388dc",
   "metadata": {},
   "outputs": [],
   "source": [
    "m = Manager(\"Bob\", 8000, [dev])\n",
    "print(m.team[0].name)"
   ]
  },
  {
   "cell_type": "code",
   "execution_count": null,
   "id": "9fd9dad8",
   "metadata": {},
   "outputs": [],
   "source": [
    "class Circle:\n",
    "    def __init__(self, radius):\n",
    "        self.radius = radius\n",
    "    def area(self):\n",
    "        return 3.14 * self.radius ** 2"
   ]
  },
  {
   "cell_type": "code",
   "execution_count": null,
   "id": "5c15208b",
   "metadata": {},
   "outputs": [],
   "source": [
    "circle = Circle(5)\n",
    "print(circle.area())"
   ]
  },
  {
   "cell_type": "code",
   "execution_count": null,
   "id": "08cc4969",
   "metadata": {},
   "outputs": [],
   "source": [
    "class Temperature:\n",
    "    def __init__(self, celsius):\n",
    "        self._celsius = celsius\n",
    "    @property\n",
    "    def fahrenheit(self):\n",
    "        return self._celsius * 9/5 + 32"
   ]
  },
  {
   "cell_type": "code",
   "execution_count": null,
   "id": "557aeffe",
   "metadata": {},
   "outputs": [],
   "source": [
    "temp = Temperature(25)\n",
    "print(temp.fahrenheit)"
   ]
  },
  {
   "cell_type": "code",
   "execution_count": null,
   "id": "6541d31d",
   "metadata": {},
   "outputs": [],
   "source": [
    "class FileHandler:\n",
    "    def __init__(self, filename):\n",
    "        self.filename = filename\n",
    "    def read(self):\n",
    "        with open(self.filename, 'r') as f:\n",
    "            return f.read()"
   ]
  },
  {
   "cell_type": "code",
   "execution_count": null,
   "id": "f612d2ec",
   "metadata": {},
   "outputs": [],
   "source": [
    "# Example: Use only if file exists\n",
    "# fh = FileHandler(\"test.txt\")\n",
    "# print(fh.read())"
   ]
  },
  {
   "cell_type": "code",
   "execution_count": null,
   "id": "69a40d0d",
   "metadata": {},
   "outputs": [],
   "source": [
    "class Bank:\n",
    "    def __init__(self):\n",
    "        self.accounts = {}\n",
    "    def add_account(self, acc_num, balance):\n",
    "        self.accounts[acc_num] = balance"
   ]
  },
  {
   "cell_type": "code",
   "execution_count": null,
   "id": "ca14b8e0",
   "metadata": {},
   "outputs": [],
   "source": [
    "b = Bank()\n",
    "b.add_account(\"123\", 1000)\n",
    "print(b.accounts)"
   ]
  },
  {
   "cell_type": "code",
   "execution_count": null,
   "id": "e1a9f521",
   "metadata": {},
   "outputs": [],
   "source": [
    "class Clock:\n",
    "    def tick(self):\n",
    "        from time import sleep\n",
    "        for i in range(3):\n",
    "            print(\"Tick\")\n",
    "            sleep(1)"
   ]
  },
  {
   "cell_type": "code",
   "execution_count": null,
   "id": "934b09b1",
   "metadata": {},
   "outputs": [],
   "source": [
    "# Clock().tick()"
   ]
  },
  {
   "cell_type": "code",
   "execution_count": null,
   "id": "a45d595b",
   "metadata": {},
   "outputs": [],
   "source": [
    "class Shape:\n",
    "    def draw(self):\n",
    "        raise NotImplementedError(\"Draw method must be overridden\")"
   ]
  },
  {
   "cell_type": "code",
   "execution_count": null,
   "id": "62e73ce9",
   "metadata": {},
   "outputs": [],
   "source": [
    "class Rectangle(Shape):\n",
    "    def draw(self):\n",
    "        print(\"Drawing rectangle\")"
   ]
  },
  {
   "cell_type": "code",
   "execution_count": null,
   "id": "c8f5d09f",
   "metadata": {},
   "outputs": [],
   "source": [
    "shapes = [Rectangle()]\n",
    "for shape in shapes:\n",
    "    shape.draw()"
   ]
  },
  {
   "cell_type": "code",
   "execution_count": null,
   "id": "ab0c8ee0",
   "metadata": {},
   "outputs": [],
   "source": [
    "class ChessPiece:\n",
    "    def move(self):\n",
    "        print(\"Piece moved\")"
   ]
  },
  {
   "cell_type": "code",
   "execution_count": null,
   "id": "046cb53b",
   "metadata": {},
   "outputs": [],
   "source": [
    "class Knight(ChessPiece):\n",
    "    def move(self):\n",
    "        print(\"Knight moves in L shape\")"
   ]
  },
  {
   "cell_type": "code",
   "execution_count": null,
   "id": "b2c360b4",
   "metadata": {},
   "outputs": [],
   "source": [
    "pieces = [ChessPiece(), Knight()]\n",
    "for piece in pieces:\n",
    "    piece.move()"
   ]
  },
  {
   "cell_type": "code",
   "execution_count": null,
   "id": "fbedbb28",
   "metadata": {},
   "outputs": [],
   "source": [
    "class Coordinate:\n",
    "    def __init__(self, x, y):\n",
    "        self.x = x\n",
    "        self.y = y\n",
    "    def __eq__(self, other):\n",
    "        return self.x == other.x and self.y == other.y"
   ]
  },
  {
   "cell_type": "code",
   "execution_count": null,
   "id": "c6020fee",
   "metadata": {},
   "outputs": [],
   "source": [
    "print(Coordinate(1, 2) == Coordinate(1, 2))"
   ]
  },
  {
   "cell_type": "code",
   "execution_count": null,
   "id": "ce27ac55",
   "metadata": {},
   "outputs": [],
   "source": [
    "class Queue:\n",
    "    def __init__(self):\n",
    "        self.items = []\n",
    "    def enqueue(self, item):\n",
    "        self.items.append(item)\n",
    "    def dequeue(self):\n",
    "        return self.items.pop(0)"
   ]
  },
  {
   "cell_type": "code",
   "execution_count": null,
   "id": "a2b7e5af",
   "metadata": {},
   "outputs": [],
   "source": [
    "q = Queue()\n",
    "q.enqueue(1)\n",
    "print(q.dequeue())"
   ]
  },
  {
   "cell_type": "code",
   "execution_count": null,
   "id": "9c9dc5a8",
   "metadata": {},
   "outputs": [],
   "source": [
    "class IDGenerator:\n",
    "    _counter = 0\n",
    "    @classmethod\n",
    "    def generate_id(cls):\n",
    "        cls._counter += 1\n",
    "        return cls._counter"
   ]
  },
  {
   "cell_type": "code",
   "execution_count": null,
   "id": "9bf2e768",
   "metadata": {},
   "outputs": [],
   "source": [
    "print(IDGenerator.generate_id())"
   ]
  },
  {
   "cell_type": "code",
   "execution_count": null,
   "id": "f090539c",
   "metadata": {},
   "outputs": [],
   "source": [
    "class TemperatureConverter:\n",
    "    @staticmethod\n",
    "    def to_fahrenheit(c):\n",
    "        return c * 9/5 + 32"
   ]
  },
  {
   "cell_type": "code",
   "execution_count": null,
   "id": "a22d86f9",
   "metadata": {},
   "outputs": [],
   "source": [
    "print(TemperatureConverter.to_fahrenheit(0))"
   ]
  },
  {
   "cell_type": "code",
   "execution_count": null,
   "id": "fbb57b51",
   "metadata": {},
   "outputs": [],
   "source": [
    "class User:\n",
    "    def __init__(self, username):\n",
    "        self.username = username\n",
    "    def __str__(self):\n",
    "        return f\"User: {self.username}\""
   ]
  },
  {
   "cell_type": "code",
   "execution_count": null,
   "id": "8f1c7e7f",
   "metadata": {},
   "outputs": [],
   "source": [
    "print(User(\"admin\"))"
   ]
  },
  {
   "cell_type": "code",
   "execution_count": null,
   "id": "1796d11d",
   "metadata": {},
   "outputs": [],
   "source": [
    "class Person:\n",
    "    def __init__(self, name):\n",
    "        self.name = name\n",
    "    def greet(self):\n",
    "        print(f\"Hello, {self.name}\")"
   ]
  },
  {
   "cell_type": "code",
   "execution_count": null,
   "id": "0fe9d09a",
   "metadata": {},
   "outputs": [],
   "source": [
    "class Admin(Person):\n",
    "    def greet(self):\n",
    "        print(f\"Welcome back, Admin {self.name}\")"
   ]
  },
  {
   "cell_type": "code",
   "execution_count": null,
   "id": "05f02dea",
   "metadata": {},
   "outputs": [],
   "source": [
    "a = Admin(\"Sarah\")\n",
    "a.greet()"
   ]
  },
  {
   "cell_type": "code",
   "execution_count": null,
   "id": "0118160b",
   "metadata": {},
   "outputs": [],
   "source": [
    "class Vehicle:\n",
    "    wheels = 4"
   ]
  },
  {
   "cell_type": "code",
   "execution_count": null,
   "id": "5b88b8ba",
   "metadata": {},
   "outputs": [],
   "source": [
    "print(Vehicle.wheels)"
   ]
  },
  {
   "cell_type": "code",
   "execution_count": null,
   "id": "a0af7172",
   "metadata": {},
   "outputs": [],
   "source": [
    "class Dog:\n",
    "    def speak(self):\n",
    "        print(\"Woof\")"
   ]
  },
  {
   "cell_type": "code",
   "execution_count": null,
   "id": "0c92b9e8",
   "metadata": {},
   "outputs": [],
   "source": [
    "class Cat:\n",
    "    def speak(self):\n",
    "        print(\"Meow\")"
   ]
  },
  {
   "cell_type": "code",
   "execution_count": null,
   "id": "886c04a6",
   "metadata": {},
   "outputs": [],
   "source": [
    "def animal_talk(animal):\n",
    "    animal.speak()"
   ]
  },
  {
   "cell_type": "code",
   "execution_count": null,
   "id": "640c3e6c",
   "metadata": {},
   "outputs": [],
   "source": [
    "animal_talk(Dog())\n",
    "animal_talk(Cat())"
   ]
  },
  {
   "cell_type": "code",
   "execution_count": null,
   "id": "0564203b",
   "metadata": {},
   "outputs": [],
   "source": [
    "class Database:\n",
    "    __instance = None\n",
    "    def __new__(cls):\n",
    "        if cls.__instance is None:\n",
    "            cls.__instance = super(Database, cls).__new__(cls)\n",
    "        return cls.__instance"
   ]
  },
  {
   "cell_type": "code",
   "execution_count": null,
   "id": "bc1c337b",
   "metadata": {},
   "outputs": [],
   "source": [
    "db1 = Database()\n",
    "db2 = Database()\n",
    "print(db1 is db2)"
   ]
  },
  {
   "cell_type": "code",
   "execution_count": null,
   "id": "3044356f",
   "metadata": {},
   "outputs": [],
   "source": [
    "class Resource:\n",
    "    def __enter__(self):\n",
    "        print(\"Opening resource\")\n",
    "        return self\n",
    "    def __exit__(self, exc_type, exc_val, exc_tb):\n",
    "        print(\"Closing resource\")"
   ]
  },
  {
   "cell_type": "code",
   "execution_count": null,
   "id": "4a426140",
   "metadata": {},
   "outputs": [],
   "source": [
    "with Resource() as r:\n",
    "    pass"
   ]
  },
  {
   "cell_type": "code",
   "execution_count": null,
   "id": "bfb76795",
   "metadata": {},
   "outputs": [],
   "source": [
    "class Point:\n",
    "    def __init__(self, x):\n",
    "        self.x = x\n",
    "    def __bool__(self):\n",
    "        return self.x != 0"
   ]
  },
  {
   "cell_type": "code",
   "execution_count": null,
   "id": "2d9e1336",
   "metadata": {},
   "outputs": [],
   "source": [
    "print(bool(Point(0)))"
   ]
  },
  {
   "cell_type": "code",
   "execution_count": null,
   "id": "899f5590",
   "metadata": {},
   "outputs": [],
   "source": [
    "class Observable:\n",
    "    def __init__(self):\n",
    "        self._observers = []\n",
    "    def register(self, observer):\n",
    "        self._observers.append(observer)\n",
    "    def notify(self):\n",
    "        for obs in self._observers:\n",
    "            obs.update()"
   ]
  },
  {
   "cell_type": "code",
   "execution_count": null,
   "id": "09c44020",
   "metadata": {},
   "outputs": [],
   "source": [
    "class Observer:\n",
    "    def update(self):\n",
    "        print(\"Notified!\")"
   ]
  },
  {
   "cell_type": "code",
   "execution_count": null,
   "id": "06843096",
   "metadata": {},
   "outputs": [],
   "source": [
    "obs = Observer()\n",
    "subject = Observable()\n",
    "subject.register(obs)\n",
    "subject.notify()"
   ]
  }
 ],
 "metadata": {
  "language_info": {
   "name": "python"
  }
 },
 "nbformat": 4,
 "nbformat_minor": 5
}
