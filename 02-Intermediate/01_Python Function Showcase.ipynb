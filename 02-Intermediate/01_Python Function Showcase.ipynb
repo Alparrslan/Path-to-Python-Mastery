{
 "cells": [
  {
   "cell_type": "markdown",
   "id": "665fdbe0",
   "metadata": {},
   "source": [
    "# Python Function Showcase"
   ]
  },
  {
   "cell_type": "markdown",
   "id": "346bd4cd",
   "metadata": {},
   "source": []
  },
  {
   "cell_type": "code",
   "execution_count": 1,
   "id": "f5616521",
   "metadata": {},
   "outputs": [
    {
     "name": "stdout",
     "output_type": "stream",
     "text": [
      "Hello, welcome to Python functions!\n"
     ]
    }
   ],
   "source": [
    "#  FUNCTION BASICS\n",
    "def greet():\n",
    "    print(\"Hello, welcome to Python functions!\")\n",
    "\n",
    "greet()\n"
   ]
  },
  {
   "cell_type": "code",
   "execution_count": 3,
   "id": "b44c64db",
   "metadata": {},
   "outputs": [
    {
     "name": "stdout",
     "output_type": "stream",
     "text": [
      "Hello, Alice!\n"
     ]
    }
   ],
   "source": [
    "# Function with parameters\n",
    "def greet_user(name):\n",
    "    print(f\"Hello, {name}!\")\n",
    "\n",
    "greet_user(\"Alice\")"
   ]
  },
  {
   "cell_type": "code",
   "execution_count": 4,
   "id": "c82522ea",
   "metadata": {},
   "outputs": [
    {
     "name": "stdout",
     "output_type": "stream",
     "text": [
      "25\n"
     ]
    }
   ],
   "source": [
    "# Function with return value\n",
    "def square(n):\n",
    "    return n ** 2\n",
    "result = square(5)\n",
    "print(result)"
   ]
  },
  {
   "cell_type": "code",
   "execution_count": 5,
   "id": "f7818001",
   "metadata": {},
   "outputs": [
    {
     "name": "stdout",
     "output_type": "stream",
     "text": [
      "7\n"
     ]
    }
   ],
   "source": [
    "# 🧮 MULTIPLE PARAMETERS\n",
    "def add(a, b):\n",
    "    return a + b\n",
    "\n",
    "print(add(3, 4))"
   ]
  },
  {
   "cell_type": "code",
   "execution_count": 6,
   "id": "153b26d6",
   "metadata": {},
   "outputs": [
    {
     "name": "stdout",
     "output_type": "stream",
     "text": [
      "My name is Bob and I'm 25 years old.\n",
      "My name is John and I'm 30 years old.\n"
     ]
    }
   ],
   "source": [
    "# Positional vs keyword arguments\n",
    "def introduce(name, age):\n",
    "    print(f\"My name is {name} and I'm {age} years old.\")\n",
    "\n",
    "introduce(\"Bob\", 25)\n",
    "introduce(age=30, name=\"John\")"
   ]
  },
  {
   "cell_type": "code",
   "execution_count": 7,
   "id": "915187f6",
   "metadata": {},
   "outputs": [
    {
     "name": "stdout",
     "output_type": "stream",
     "text": [
      "16\n",
      "32\n"
     ]
    }
   ],
   "source": [
    "def power(base, exponent=2):\n",
    "    return base ** exponent\n",
    "\n",
    "print(power(4))       # uses default exponent=2\n",
    "print(power(2, 5))    # overrides default"
   ]
  },
  {
   "cell_type": "code",
   "execution_count": null,
   "id": "f834c87c",
   "metadata": {},
   "outputs": [],
   "source": [
    "#  *ARGS\n",
    "def total_sum(*numbers):\n",
    "    return sum(numbers)\n",
    "\n",
    "print(total_sum(1, 2, 3))\n",
    "print(total_sum(10, 20))"
   ]
  },
  {
   "cell_type": "code",
   "execution_count": null,
   "id": "23b59204",
   "metadata": {},
   "outputs": [],
   "source": [
    "# *args is a tuple\n",
    "def print_args(*args):\n",
    "    for arg in args:\n",
    "        print(arg)\n",
    "\n",
    "print_args(\"Python\", 3.10, True)"
   ]
  },
  {
   "cell_type": "code",
   "execution_count": null,
   "id": "4b3fa735",
   "metadata": {},
   "outputs": [],
   "source": [
    "# **KWARGS\n",
    "def describe_person(**kwargs):\n",
    "    for key, value in kwargs.items():\n",
    "        print(f\"{key}: {value}\")\n",
    "\n",
    "describe_person(name=\"Alice\", age=30, job=\"Engineer\")"
   ]
  },
  {
   "cell_type": "code",
   "execution_count": null,
   "id": "d02b94e2",
   "metadata": {},
   "outputs": [],
   "source": [
    "# *args and **kwargs together\n",
    "def flexible_func(a, *args, **kwargs):\n",
    "    print(\"a:\", a)\n",
    "    print(\"args:\", args)\n",
    "    print(\"kwargs:\", kwargs)\n",
    "\n",
    "flexible_func(5, 10, 15, name=\"Ali\", job=\"Dev\")"
   ]
  },
  {
   "cell_type": "code",
   "execution_count": null,
   "id": "f3fbde9d",
   "metadata": {},
   "outputs": [],
   "source": [
    "#  LAMBDA FUNCTIONS (anonymous)\n",
    "square_lambda = lambda x: x ** 2\n",
    "print(square_lambda(6))"
   ]
  },
  {
   "cell_type": "code",
   "execution_count": null,
   "id": "657b421f",
   "metadata": {},
   "outputs": [],
   "source": [
    "# Multiple parameters in lambda\n",
    "add_lambda = lambda x, y: x + y\n",
    "print(add_lambda(3, 7))"
   ]
  },
  {
   "cell_type": "code",
   "execution_count": null,
   "id": "d533beb7",
   "metadata": {},
   "outputs": [],
   "source": [
    "# Using lambda with map()\n",
    "numbers = [1, 2, 3, 4]\n",
    "squared = list(map(lambda x: x**2, numbers))\n",
    "print(squared)\n"
   ]
  },
  {
   "cell_type": "code",
   "execution_count": null,
   "id": "664d13fd",
   "metadata": {},
   "outputs": [],
   "source": [
    "#  Lambda with filter()\n",
    "evens = list(filter(lambda x: x % 2 == 0, numbers))\n",
    "print(evens)"
   ]
  },
  {
   "cell_type": "code",
   "execution_count": null,
   "id": "a6ffed49",
   "metadata": {},
   "outputs": [],
   "source": [
    "# Lambda with sorted()\n",
    "people = [(\"Ali\", 25), (\"Veli\", 19), (\"Zeynep\", 30)]\n",
    "sorted_people = sorted(people, key=lambda x: x[1])\n",
    "print(sorted_people)"
   ]
  },
  {
   "cell_type": "code",
   "execution_count": null,
   "id": "231ffd45",
   "metadata": {},
   "outputs": [],
   "source": [
    "#  BUILT-IN FUNCTIONS (selected)\n",
    "print(len(\"Python\"))           # length of string\n",
    "print(max([4, 7, 2]))          # maximum\n",
    "print(min([4, 7, 2]))          # minimum\n",
    "print(abs(-9))                 # absolute value\n",
    "print(round(3.567, 2))         # rounding"
   ]
  },
  {
   "cell_type": "code",
   "execution_count": null,
   "id": "443b8f05",
   "metadata": {},
   "outputs": [],
   "source": [
    "#  FUNCTION NESTING\n",
    "def outer():\n",
    "    def inner():\n",
    "        return \"Inner function result\"\n",
    "    return inner()\n",
    "\n",
    "print(outer())"
   ]
  },
  {
   "cell_type": "code",
   "execution_count": null,
   "id": "9f088dec",
   "metadata": {},
   "outputs": [],
   "source": [
    "#  RECURSIVE FUNCTIONS\n",
    "def factorial(n):\n",
    "    if n == 0:\n",
    "        return 1\n",
    "    return n * factorial(n - 1)\n",
    "\n",
    "print(factorial(5))\n"
   ]
  },
  {
   "cell_type": "code",
   "execution_count": null,
   "id": "ba1f6c9f",
   "metadata": {},
   "outputs": [],
   "source": [
    "#  FUNCTION WITH TYPE HINTS\n",
    "def multiply(a: int, b: int) -> int:\n",
    "    return a * b\n",
    "\n",
    "print(multiply(4, 5))"
   ]
  },
  {
   "cell_type": "code",
   "execution_count": null,
   "id": "f635ab54",
   "metadata": {},
   "outputs": [],
   "source": [
    "#  FUNCTION AS ARGUMENT\n",
    "def apply_func(f, value):\n",
    "    return f(value)\n",
    "\n",
    "def triple(x):\n",
    "    return x * 3\n",
    "\n",
    "print(apply_func(triple, 10))"
   ]
  },
  {
   "cell_type": "code",
   "execution_count": null,
   "id": "a0322be1",
   "metadata": {},
   "outputs": [],
   "source": [
    "#  DECORATOR BASICS\n",
    "def decorator_func(func):\n",
    "    def wrapper():\n",
    "        print(\"Before function call\")\n",
    "        func()\n",
    "        print(\"After function call\")\n",
    "    return wrapper\n",
    "\n",
    "@decorator_func\n",
    "def say_hi():\n",
    "    print(\"Hi!\")\n",
    "\n",
    "say_hi()"
   ]
  },
  {
   "cell_type": "code",
   "execution_count": null,
   "id": "5f401518",
   "metadata": {},
   "outputs": [],
   "source": [
    "#  UNPACKING WITH *\n",
    "def show_names(a, b, c):\n",
    "    print(a, b, c)\n",
    "\n",
    "names = [\"Alice\", \"Bob\", \"Charlie\"]\n",
    "show_names(*names)"
   ]
  },
  {
   "cell_type": "code",
   "execution_count": null,
   "id": "9cc9345f",
   "metadata": {},
   "outputs": [],
   "source": [
    "#  UNPACKING WITH **\n",
    "def show_info(name, job):\n",
    "    print(f\"{name} works as a {job}\")\n",
    "\n",
    "info = {\"name\": \"Ali\", \"job\": \"Engineer\"}\n",
    "show_info(**info)"
   ]
  },
  {
   "cell_type": "code",
   "execution_count": null,
   "id": "dfc4c2ef",
   "metadata": {},
   "outputs": [],
   "source": [
    "#  PASSING FUNCTION RETURNS\n",
    "def generate_message():\n",
    "    return \"Completed!\"\n",
    "\n",
    "def use_message(msg):\n",
    "    print(f\"Status: {msg}\")\n",
    "\n",
    "use_message(generate_message())"
   ]
  },
  {
   "cell_type": "code",
   "execution_count": null,
   "id": "972040b4",
   "metadata": {},
   "outputs": [],
   "source": [
    "#  FUNCTION WITH DEFAULT MUTABLE PARAMETER (Not Recommended!)\n",
    "def append_to_list(value, my_list=[]):\n",
    "    my_list.append(value)\n",
    "    return my_list\n",
    "\n",
    "print(append_to_list(1))\n",
    "print(append_to_list(2))  # list persists!"
   ]
  },
  {
   "cell_type": "code",
   "execution_count": null,
   "id": "ce82cb01",
   "metadata": {},
   "outputs": [],
   "source": [
    "# Correct version\n",
    "def safe_append(value, my_list=None):\n",
    "    if my_list is None:\n",
    "        my_list = []\n",
    "    my_list.append(value)\n",
    "    return my_list\n",
    "\n",
    "print(safe_append(1))\n",
    "print(safe_append(2))"
   ]
  },
  {
   "cell_type": "code",
   "execution_count": null,
   "id": "7e129340",
   "metadata": {},
   "outputs": [],
   "source": [
    "#  FUNCTIONS RETURNING FUNCTIONS\n",
    "def make_multiplier(n):\n",
    "    def multiplier(x):\n",
    "        return x * n\n",
    "    return multiplier\n",
    "\n",
    "times3 = make_multiplier(3)\n",
    "print(times3(10))"
   ]
  },
  {
   "cell_type": "code",
   "execution_count": null,
   "id": "213e7c7f",
   "metadata": {},
   "outputs": [],
   "source": [
    "#  ANONYMOUS FUNCTION + SORTING COMPLEX STRUCTURE\n",
    "students = [{\"name\": \"Zeynep\", \"score\": 95},\n",
    "            {\"name\": \"Ali\", \"score\": 80},\n",
    "            {\"name\": \"Can\", \"score\": 90}]\n",
    "sorted_students = sorted(students, key=lambda x: x[\"score\"], reverse=True)\n",
    "print(sorted_students)"
   ]
  }
 ],
 "metadata": {
  "kernelspec": {
   "display_name": "Python 3",
   "language": "python",
   "name": "python3"
  },
  "language_info": {
   "codemirror_mode": {
    "name": "ipython",
    "version": 3
   },
   "file_extension": ".py",
   "mimetype": "text/x-python",
   "name": "python",
   "nbconvert_exporter": "python",
   "pygments_lexer": "ipython3",
   "version": "3.12.6"
  }
 },
 "nbformat": 4,
 "nbformat_minor": 5
}
