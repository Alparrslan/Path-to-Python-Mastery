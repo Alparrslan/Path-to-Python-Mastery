{
 "cells": [
  {
   "cell_type": "markdown",
   "id": "3b7a5991",
   "metadata": {},
   "source": [
    "# Python Modules & Packages"
   ]
  },
  {
   "cell_type": "code",
   "execution_count": null,
   "id": "e71014e4",
   "metadata": {},
   "outputs": [],
   "source": [
    "# Basic import\n",
    "import math\n",
    "print(math.sqrt(16))"
   ]
  },
  {
   "cell_type": "code",
   "execution_count": null,
   "id": "cdbcb94d",
   "metadata": {},
   "outputs": [],
   "source": [
    "# Import with alias\n",
    "import datetime as dt\n",
    "print(dt.datetime.now())\n"
   ]
  },
  {
   "cell_type": "code",
   "execution_count": null,
   "id": "3a3a9a46",
   "metadata": {},
   "outputs": [],
   "source": [
    "# Import specific function\n",
    "from math import pi\n",
    "print(pi)"
   ]
  },
  {
   "cell_type": "code",
   "execution_count": null,
   "id": "41e388a1",
   "metadata": {},
   "outputs": [],
   "source": [
    "# Import multiple functions\n",
    "from random import randint, choice\n",
    "print(randint(1, 10))\n",
    "print(choice(['apple', 'banana', 'cherry']))"
   ]
  },
  {
   "cell_type": "code",
   "execution_count": null,
   "id": "4ef3760b",
   "metadata": {},
   "outputs": [],
   "source": [
    "# 🔧 CREATING CUSTOM MODULES\n",
    "# Assume we created a file called `mymodule.py` in the same directory:\n",
    "# Contents of mymodule.py:\n",
    "# def greet(name):\n",
    "#     return f\"Hello, {name}!\"\n",
    "\n",
    "# We can now import and use it:\n",
    "# import mymodule\n",
    "# print(mymodule.greet(\"Alice\"))"
   ]
  },
  {
   "cell_type": "code",
   "execution_count": null,
   "id": "53c265b9",
   "metadata": {},
   "outputs": [],
   "source": [
    "#  STRUCTURING MODULES INTO PACKAGES\n",
    "# Folder structure:\n",
    "# mypackage/\n",
    "# ├── __init__.py\n",
    "# ├── module1.py\n",
    "# └── module2.py\n",
    "\n",
    "# module1.py might contain:\n",
    "# def say_hello():\n",
    "#     return \"Hello from module1\"\n",
    "\n",
    "# We can use:\n",
    "# from mypackage import module1\n",
    "# print(module1.say_hello())\n"
   ]
  },
  {
   "cell_type": "code",
   "execution_count": null,
   "id": "4022a149",
   "metadata": {},
   "outputs": [],
   "source": [
    "#  MATH MODULE\n",
    "import math\n",
    "\n",
    "print(math.ceil(4.2))        # 5\n",
    "print(math.floor(4.2))       # 4\n",
    "print(math.factorial(5))     # 120\n",
    "print(math.pow(2, 3))        # 8.0"
   ]
  },
  {
   "cell_type": "code",
   "execution_count": null,
   "id": "c870935e",
   "metadata": {},
   "outputs": [],
   "source": [
    "#  RANDOM MODULE\n",
    "import random\n",
    "\n",
    "print(random.randint(1, 100))         # Random integer\n",
    "print(random.uniform(1.5, 5.5))       # Random float\n",
    "print(random.choice([\"A\", \"B\", \"C\"])) # Random element\n",
    "\n",
    "# Shuffling a list\n",
    "items = [1, 2, 3, 4, 5]\n",
    "random.shuffle(items)\n",
    "print(items)"
   ]
  },
  {
   "cell_type": "code",
   "execution_count": null,
   "id": "630b7bb8",
   "metadata": {},
   "outputs": [],
   "source": [
    "#  DATETIME MODULE\n",
    "import datetime\n",
    "\n",
    "today = datetime.date.today()\n",
    "print(\"Today is:\", today)"
   ]
  },
  {
   "cell_type": "code",
   "execution_count": null,
   "id": "1848f45f",
   "metadata": {},
   "outputs": [],
   "source": [
    "# Creating a specific date\n",
    "birthdate = datetime.date(1995, 5, 17)\n",
    "print(\"Birthdate:\", birthdate)"
   ]
  },
  {
   "cell_type": "code",
   "execution_count": null,
   "id": "9cd3ec8f",
   "metadata": {},
   "outputs": [],
   "source": [
    "# Difference between dates\n",
    "delta = today - birthdate\n",
    "print(\"Days since birth:\", delta.days)"
   ]
  },
  {
   "cell_type": "code",
   "execution_count": null,
   "id": "1790de96",
   "metadata": {},
   "outputs": [],
   "source": [
    "# ⏱ TIME MODULE\n",
    "import time\n",
    "\n",
    "print(\"Waiting for 2 seconds...\")\n",
    "time.sleep(2)\n",
    "print(\"Done!\")"
   ]
  },
  {
   "cell_type": "code",
   "execution_count": null,
   "id": "62cb957d",
   "metadata": {},
   "outputs": [],
   "source": [
    "#  OS MODULE\n",
    "import os\n",
    "\n",
    "print(\"Current working directory:\", os.getcwd())\n",
    "print(\"List of files:\", os.listdir())"
   ]
  },
  {
   "cell_type": "code",
   "execution_count": null,
   "id": "ff100200",
   "metadata": {},
   "outputs": [],
   "source": [
    "# SYS MODULE\n",
    "import sys\n",
    "\n",
    "print(\"Python version:\", sys.version)\n",
    "print(\"Script arguments:\", sys.argv)\n"
   ]
  },
  {
   "cell_type": "code",
   "execution_count": null,
   "id": "caec030c",
   "metadata": {},
   "outputs": [],
   "source": [
    "#  IMPORTING A MODULE ONLY ONCE\n",
    "# Python automatically caches modules in sys.modules after importing.\n",
    "#  IMPORTING A MODULE ONLY ONCE\n",
    "# Python automatically caches modules in sys.modules after importing."
   ]
  },
  {
   "cell_type": "code",
   "execution_count": null,
   "id": "da7dc458",
   "metadata": {},
   "outputs": [],
   "source": [
    "# This block will run ONLY when mytool.py is executed directly, not when imported."
   ]
  },
  {
   "cell_type": "code",
   "execution_count": null,
   "id": "43d431c6",
   "metadata": {},
   "outputs": [],
   "source": [
    "# Simulated behavior:\n",
    "def test_function():\n",
    "    print(\"Function ran.\")\n",
    "if __name__ == \"__main__\":\n",
    "    test_function()"
   ]
  },
  {
   "cell_type": "code",
   "execution_count": null,
   "id": "14466450",
   "metadata": {},
   "outputs": [],
   "source": [
    "#  WORKING WITH CSV (STANDARD LIB)\n",
    "import csv\n",
    "\n",
    "with open(\"example.csv\", mode=\"w\", newline=\"\") as file:\n",
    "    writer = csv.writer(file)\n",
    "    writer.writerow([\"Name\", \"Age\"])\n",
    "    writer.writerow([\"Alice\", 30])\n",
    "    writer.writerow([\"Bob\", 25])"
   ]
  },
  {
   "cell_type": "code",
   "execution_count": null,
   "id": "671968d3",
   "metadata": {},
   "outputs": [],
   "source": [
    "#  READING CSV\n",
    "with open(\"example.csv\", mode=\"r\") as file:\n",
    "    reader = csv.reader(file)\n",
    "    for row in reader:\n",
    "        print(row)"
   ]
  },
  {
   "cell_type": "code",
   "execution_count": null,
   "id": "cd131998",
   "metadata": {},
   "outputs": [],
   "source": [
    "#  USING JSON MODULE\n",
    "import json\n",
    "\n",
    "data = {\"name\": \"John\", \"age\": 30}\n",
    "json_str = json.dumps(data)\n",
    "print(json_str)\n",
    "\n",
    "parsed = json.loads(json_str)\n",
    "print(parsed[\"name\"])"
   ]
  },
  {
   "cell_type": "code",
   "execution_count": null,
   "id": "06b73efd",
   "metadata": {},
   "outputs": [],
   "source": [
    "#  FILE SYSTEM MODULE (os)\n",
    "folder_path = \"test_folder\"\n",
    "if not os.path.exists(folder_path):\n",
    "    os.makedirs(folder_path)"
   ]
  },
  {
   "cell_type": "code",
   "execution_count": null,
   "id": "d9b9382b",
   "metadata": {},
   "outputs": [],
   "source": [
    "#  ENVIRONMENT VARIABLES\n",
    "os.environ[\"MY_SECRET\"] = \"12345\"\n",
    "print(os.getenv(\"MY_SECRET\"))"
   ]
  },
  {
   "cell_type": "code",
   "execution_count": null,
   "id": "2fd53202",
   "metadata": {},
   "outputs": [],
   "source": [
    "#  USING EXTERNAL MODULE (example: numpy)\n",
    "try:\n",
    "    import numpy as np\n",
    "    print(np.array([1, 2, 3]) + 5)\n",
    "except ImportError:\n",
    "    print(\"Numpy is not installed.\")"
   ]
  },
  {
   "cell_type": "code",
   "execution_count": null,
   "id": "d22e129b",
   "metadata": {},
   "outputs": [],
   "source": [
    "# 🧪 CUSTOM PACKAGE USAGE\n",
    "# Folder: mymathpkg/\n",
    "# ├── __init__.py\n",
    "# └── operations.py\n",
    "# operations.py:\n",
    "# def add(x, y): return x + y\n",
    "\n",
    "# From main file:\n",
    "# from mymathpkg import operations\n",
    "# print(operations.add(3, 5))"
   ]
  },
  {
   "cell_type": "code",
   "execution_count": null,
   "id": "f5613d93",
   "metadata": {},
   "outputs": [],
   "source": [
    "#  MODULE CACHING TEST\n",
    "import importlib\n",
    "# importlib.reload(module_name) — use if you modify an already imported module."
   ]
  },
  {
   "cell_type": "code",
   "execution_count": null,
   "id": "e66983a0",
   "metadata": {},
   "outputs": [],
   "source": [
    "#  PRINTING ALL AVAILABLE MODULES (via help)\n",
    "# Uncomment to explore\n",
    "# help(\"modules\")"
   ]
  },
  {
   "cell_type": "code",
   "execution_count": null,
   "id": "f873c085",
   "metadata": {},
   "outputs": [],
   "source": [
    "#  FINDING LOCATION OF MODULE\n",
    "print(math.__file__)\n",
    "print(os.__file__)"
   ]
  },
  {
   "cell_type": "code",
   "execution_count": null,
   "id": "5a3eefb0",
   "metadata": {},
   "outputs": [],
   "source": [
    "#  MODULE DOCSTRINGS\n",
    "# You can see the documentation by:\n",
    "# help(math)\n",
    "# help(os)"
   ]
  },
  {
   "cell_type": "code",
   "execution_count": null,
   "id": "1be4771f",
   "metadata": {},
   "outputs": [],
   "source": [
    "#  CLEANUP: remove created file/folder\n",
    "os.remove(\"example.csv\")\n",
    "os.rmdir(\"test_folder\")"
   ]
  },
  {
   "cell_type": "code",
   "execution_count": null,
   "id": "02bab072",
   "metadata": {},
   "outputs": [],
   "source": []
  }
 ],
 "metadata": {
  "kernelspec": {
   "display_name": "Python 3",
   "language": "python",
   "name": "python3"
  },
  "language_info": {
   "name": "python",
   "version": "3.12.6"
  }
 },
 "nbformat": 4,
 "nbformat_minor": 5
}
