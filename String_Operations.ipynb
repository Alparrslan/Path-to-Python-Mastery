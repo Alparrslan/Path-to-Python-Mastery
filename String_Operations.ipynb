{
 "cells": [
  {
   "cell_type": "code",
   "execution_count": 2,
   "metadata": {},
   "outputs": [
    {
     "name": "stdout",
     "output_type": "stream",
     "text": [
      "World\n",
      "World\n"
     ]
    }
   ],
   "source": [
    "x = 'World'\n",
    "y = \"World\"\n",
    "print(x)\n",
    "print(y)\n"
   ]
  },
  {
   "cell_type": "code",
   "execution_count": 4,
   "metadata": {},
   "outputs": [
    {
     "name": "stdout",
     "output_type": "stream",
     "text": [
      "World\n",
      "sun\n",
      "moon\n"
     ]
    }
   ],
   "source": [
    "# Triple quotes are used for multi-line strings\n",
    "z = '''World\n",
    "sun\n",
    "moon'''\n",
    "print(z)"
   ]
  },
  {
   "cell_type": "code",
   "execution_count": null,
   "metadata": {},
   "outputs": [
    {
     "data": {
      "text/plain": [
       "5"
      ]
     },
     "execution_count": 5,
     "metadata": {},
     "output_type": "execute_result"
    }
   ],
   "source": [
    "# Finding the Length of a String\n",
    "x = \"World\"\n",
    "len(x)"
   ]
  },
  {
   "cell_type": "code",
   "execution_count": 6,
   "metadata": {},
   "outputs": [
    {
     "data": {
      "text/plain": [
       "'W'"
      ]
     },
     "execution_count": 6,
     "metadata": {},
     "output_type": "execute_result"
    }
   ],
   "source": [
    "# Accessing Characters in a String\n",
    "x = \"World\"\n",
    "x[0]"
   ]
  },
  {
   "cell_type": "code",
   "execution_count": 7,
   "metadata": {},
   "outputs": [
    {
     "data": {
      "text/plain": [
       "'d'"
      ]
     },
     "execution_count": 7,
     "metadata": {},
     "output_type": "execute_result"
    }
   ],
   "source": [
    "x =\"World\"\n",
    "x[-1]"
   ]
  },
  {
   "cell_type": "code",
   "execution_count": null,
   "metadata": {},
   "outputs": [
    {
     "data": {
      "text/plain": [
       "'Wrd'"
      ]
     },
     "execution_count": 8,
     "metadata": {},
     "output_type": "execute_result"
    }
   ],
   "source": [
    "#sting Slicing \n",
    "x = \"World\"\n",
    "x[0:6] # output: Python\n",
    "x[:6]  # output: Python\n",
    "x[3:]  # output: ld\n",
    "x[::2] # output: Wrd  (Takes every second letter)\n"
   ]
  },
  {
   "cell_type": "code",
   "execution_count": null,
   "metadata": {},
   "outputs": [
    {
     "data": {
      "text/plain": [
       "'x y'"
      ]
     },
     "execution_count": 11,
     "metadata": {},
     "output_type": "execute_result"
    }
   ],
   "source": [
    "# String Concatenation (+)\n",
    "str1 = \"x\"\n",
    "str2 = \"y\"\n",
    "str1 + \" \" + str2\n"
   ]
  },
  {
   "cell_type": "code",
   "execution_count": 15,
   "metadata": {},
   "outputs": [
    {
     "name": "stdout",
     "output_type": "stream",
     "text": [
      "world world world \n"
     ]
    }
   ],
   "source": [
    "# String Repetition (*)\n",
    "x = \"world \"\n",
    "print(x * 3) \n"
   ]
  },
  {
   "cell_type": "code",
   "execution_count": 16,
   "metadata": {},
   "outputs": [
    {
     "name": "stdout",
     "output_type": "stream",
     "text": [
      "True\n"
     ]
    }
   ],
   "source": [
    "# Searching in Strings (in and not in)\n",
    "x = \"world\"\n",
    "print(\"o\" in x)"
   ]
  },
  {
   "cell_type": "code",
   "execution_count": 17,
   "metadata": {},
   "outputs": [
    {
     "name": "stdout",
     "output_type": "stream",
     "text": [
      "True\n"
     ]
    }
   ],
   "source": [
    "x = \"world\"\n",
    "print(\"f\" not in x)"
   ]
  },
  {
   "cell_type": "code",
   "execution_count": null,
   "metadata": {},
   "outputs": [
    {
     "name": "stdout",
     "output_type": "stream",
     "text": [
      "PYTHON \n",
      "python \n",
      "Python \n",
      "Python \n",
      "pYTHON \n"
     ]
    }
   ],
   "source": [
    "#  Changing Case\n",
    "x = \"Python \"\n",
    "\n",
    "print(x.upper())      # Output: PYTHON \n",
    "print(x.lower())      # Output: python                          \n",
    "print(x.capitalize()) # Output: Python \n",
    "print(x.title())      # Output: Python \n",
    "print(x.swapcase())   # Output: pYTHON \n",
    "\n"
   ]
  },
  {
   "cell_type": "code",
   "execution_count": 20,
   "metadata": {},
   "outputs": [
    {
     "name": "stdout",
     "output_type": "stream",
     "text": [
      "['Python', 'Java', 'C++', 'C#']\n"
     ]
    }
   ],
   "source": [
    "# Splitting Strings\n",
    "x = \"Python,Java,C++,C#\"\n",
    "y = x.split(\",\")  \n",
    "print(y) \n",
    "\n"
   ]
  },
  {
   "cell_type": "code",
   "execution_count": null,
   "metadata": {},
   "outputs": [
    {
     "name": "stdout",
     "output_type": "stream",
     "text": [
      "4\n",
      "0\n"
     ]
    }
   ],
   "source": [
    "# Finding the Index of a Character\n",
    "x = \"Python\"\n",
    "\n",
    "print(x.find(\"o\"))  # Finds the first occurrence of a character\n",
    "print(x.index(\"P\")) # Works like find(), but raises an error if not found\n"
   ]
  },
  {
   "cell_type": "code",
   "execution_count": null,
   "metadata": {},
   "outputs": [],
   "source": []
  }
 ],
 "metadata": {
  "kernelspec": {
   "display_name": "Python 3",
   "language": "python",
   "name": "python3"
  },
  "language_info": {
   "codemirror_mode": {
    "name": "ipython",
    "version": 3
   },
   "file_extension": ".py",
   "mimetype": "text/x-python",
   "name": "python",
   "nbconvert_exporter": "python",
   "pygments_lexer": "ipython3",
   "version": "3.12.6"
  }
 },
 "nbformat": 4,
 "nbformat_minor": 2
}
