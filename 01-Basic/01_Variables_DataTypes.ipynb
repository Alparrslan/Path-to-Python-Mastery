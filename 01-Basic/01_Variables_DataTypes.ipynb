{
 "cells": [
  {
   "cell_type": "markdown",
   "id": "0a381288-937c-4907-9d94-19db69382bc4",
   "metadata": {},
   "source": [
    "# VARIABLES AND DATA TYPES"
   ]
  },
  {
   "cell_type": "code",
   "execution_count": 25,
   "id": "4ce696cf-4cd4-4ceb-8fe9-962bf193df2a",
   "metadata": {},
   "outputs": [
    {
     "name": "stdout",
     "output_type": "stream",
     "text": [
      "10 10.0 10000000 True\n"
     ]
    }
   ],
   "source": [
    "x = 10 # integer\n",
    "y = 10.0 # float\n",
    "z1 = \"10\" # string\n",
    "z2 = \"word\" # String\n",
    "Is_correct = True # Boolean\n",
    "print (x,y,z,Is_correct)\n"
   ]
  },
  {
   "cell_type": "code",
   "execution_count": 11,
   "id": "5ecb98da-1782-4837-98e6-478c3e638074",
   "metadata": {},
   "outputs": [
    {
     "name": "stdout",
     "output_type": "stream",
     "text": [
      "Tom wave 21\n"
     ]
    }
   ],
   "source": [
    "Name = \"Tom\"\n",
    "_Last_Name = \"wave\"\n",
    "age_21 = 21\n",
    "print(Name, _Last_Name, age_21)"
   ]
  },
  {
   "cell_type": "code",
   "execution_count": 41,
   "id": "6172e984-5b50-4d89-a88d-f7e455747f21",
   "metadata": {},
   "outputs": [
    {
     "name": "stdout",
     "output_type": "stream",
     "text": [
      "1 2 3\n"
     ]
    }
   ],
   "source": [
    "a,b,c = 1,2,3\n",
    "print(a,b,c)"
   ]
  },
  {
   "cell_type": "code",
   "execution_count": 47,
   "id": "98930ff7-a25c-4bff-8ccf-7e80e5af6f38",
   "metadata": {},
   "outputs": [
    {
     "name": "stdout",
     "output_type": "stream",
     "text": [
      "10\n",
      "10\n",
      "10\n"
     ]
    }
   ],
   "source": [
    "a = b = c = 10\n",
    "print(a)\n",
    "print(b)\n",
    "print(c)"
   ]
  },
  {
   "cell_type": "code",
   "execution_count": 61,
   "id": "3855e67e-51a3-474a-a0ee-2ddaf2ee3d09",
   "metadata": {},
   "outputs": [
    {
     "name": "stdout",
     "output_type": "stream",
     "text": [
      "Only here\n"
     ]
    },
    {
     "ename": "NameError",
     "evalue": "name 'local_variable' is not defined",
     "output_type": "error",
     "traceback": [
      "\u001b[1;31m---------------------------------------------------------------------------\u001b[0m",
      "\u001b[1;31mNameError\u001b[0m                                 Traceback (most recent call last)",
      "Cell \u001b[1;32mIn[61], line 7\u001b[0m\n\u001b[0;32m      4\u001b[0m     \u001b[38;5;28mprint\u001b[39m(local_variable)\n\u001b[0;32m      6\u001b[0m function()\n\u001b[1;32m----> 7\u001b[0m \u001b[38;5;28mprint\u001b[39m(\u001b[43mlocal_variable\u001b[49m)  \u001b[38;5;66;03m## Error because its not inside a function\u001b[39;00m\n",
      "\u001b[1;31mNameError\u001b[0m: name 'local_variable' is not defined"
     ]
    }
   ],
   "source": [
    "#  A variable declared inside a function is valid only within that function.\n",
    "def function():\n",
    "    local_variable = \"Only here\"\n",
    "    print(local_variable)\n",
    "\n",
    "function()\n",
    "print(local_variable)  # Error! Not accessible outside function!"
   ]
  },
  {
   "cell_type": "code",
   "execution_count": null,
   "id": "70333f2a-85e4-4069-93a7-3adb70a40cb0",
   "metadata": {},
   "outputs": [],
   "source": [
    "Global = \"Global_variables\"\n",
    "\n",
    "def function():\n",
    "    print(Global)   # Can be used inside the function\n",
    "\n",
    "function()\n",
    "print(Global) "
   ]
  },
  {
   "cell_type": "code",
   "execution_count": 67,
   "id": "9f6f6dd6-6b85-453f-943a-88353de518b7",
   "metadata": {},
   "outputs": [
    {
     "name": "stdout",
     "output_type": "stream",
     "text": [
      "20\n"
     ]
    }
   ],
   "source": [
    "#  To modify a global variable inside a function, use the global keyword.\n",
    "\n",
    "number = 10\n",
    "\n",
    "def change():\n",
    "    global number\n",
    "    number = 20\n",
    "\n",
    "change()\n",
    "print(number) "
   ]
  },
  {
   "cell_type": "code",
   "execution_count": 69,
   "id": "d6d71ab6-ba11-4b46-be00-bec5068fd165",
   "metadata": {},
   "outputs": [
    {
     "name": "stdout",
     "output_type": "stream",
     "text": [
      "140726446338008\n"
     ]
    }
   ],
   "source": [
    "# Variables in Python are stored as objects with memory addresses.\n",
    "\n",
    "x = 50\n",
    "print(id(x))   #  Memory address of x"
   ]
  },
  {
   "cell_type": "code",
   "execution_count": 75,
   "id": "76a971a1-99cf-45ab-bc34-66eed07bc472",
   "metadata": {},
   "outputs": [
    {
     "name": "stdout",
     "output_type": "stream",
     "text": [
      "140726446336728 140726446336728\n"
     ]
    }
   ],
   "source": [
    "#  Python may point variables with the same value to the same memory address (Immutable Objects).\n",
    "\n",
    "a= 10\n",
    "b= 10\n",
    "print(id(a),id(b))\n"
   ]
  },
  {
   "cell_type": "code",
   "execution_count": null,
   "id": "c3f71159-2c4b-4e6e-af3a-8ecb73936978",
   "metadata": {},
   "outputs": [],
   "source": []
  },
  {
   "cell_type": "markdown",
   "id": "85fae77d-610e-461f-9827-1ae1940e5879",
   "metadata": {},
   "source": [
    "# Python has three main numeric data types: int, float, complex numbers"
   ]
  },
  {
   "cell_type": "code",
   "execution_count": 13,
   "id": "8bf9f086-03ea-4ca2-863d-28233ae3b8e1",
   "metadata": {},
   "outputs": [
    {
     "name": "stdout",
     "output_type": "stream",
     "text": [
      "<class 'int'> <class 'float'> <class 'complex'>\n"
     ]
    }
   ],
   "source": [
    "# integer\n",
    "x = 10\n",
    "y = -10\n",
    "z = 10000000 \n",
    "# Float\n",
    "a = 4.10\n",
    "b = -2.2\n",
    "c = 1.0\n",
    "# Complex ( Consists of real and imaginary parts )\n",
    "d = 3 + 4j \n",
    "print(type(x), type(a), type (d)) \n",
    "\n",
    "# Complex numbers are typically used to solve problems that cannot be solved with real numbers. \n",
    "# For example, taking the square root of negative numbers requires complex numbers because the square root of a negative \n",
    "# number is not defined within the real number system. This is where complex numbers come into play."
   ]
  },
  {
   "cell_type": "code",
   "execution_count": 21,
   "id": "cdc24817-1197-433b-bfcc-6926a65cac33",
   "metadata": {},
   "outputs": [
    {
     "data": {
      "text/plain": [
       "float"
      ]
     },
     "execution_count": 21,
     "metadata": {},
     "output_type": "execute_result"
    }
   ],
   "source": [
    "#                                   Converting between numeric types:\n",
    "# Conversion between integer and float is straightforward using int() and float()\n",
    "number = 5 #int\n",
    "x = float(number)\n",
    "type(x)"
   ]
  },
  {
   "cell_type": "code",
   "execution_count": 23,
   "id": "9881e42a-90ed-4d63-b60d-4875d2bf2340",
   "metadata": {},
   "outputs": [
    {
     "data": {
      "text/plain": [
       "int"
      ]
     },
     "execution_count": 23,
     "metadata": {},
     "output_type": "execute_result"
    }
   ],
   "source": [
    "number2 = 6.0   #float\n",
    "y = int(number2) \n",
    "type (y)"
   ]
  },
  {
   "cell_type": "code",
   "execution_count": 27,
   "id": "9eb0de44-ffc4-46a9-9b02-8575a8b63548",
   "metadata": {},
   "outputs": [
    {
     "data": {
      "text/plain": [
       "float"
      ]
     },
     "execution_count": 27,
     "metadata": {},
     "output_type": "execute_result"
    }
   ],
   "source": [
    " # Implicit Type Conversion\n",
    "x = 10  #int\n",
    "y = 10.5 # flo\n",
    "z = x + y  # Finally float\n",
    "type(z)"
   ]
  },
  {
   "cell_type": "code",
   "execution_count": 29,
   "id": "41c73571-2cc4-430a-b4ec-ae462bc88d44",
   "metadata": {},
   "outputs": [
    {
     "data": {
      "text/plain": [
       "int"
      ]
     },
     "execution_count": 29,
     "metadata": {},
     "output_type": "execute_result"
    }
   ],
   "source": [
    " # Implicit Type Conversion\n",
    "x = True   # automatically considers True as 1.\n",
    "y = 5   \n",
    "z = x + y  # finally int\n",
    "type(z)"
   ]
  },
  {
   "cell_type": "markdown",
   "id": "1415e0e2-67a6-4ea0-ab08-88f3d0fa695c",
   "metadata": {},
   "source": [
    "# Explicit Tmype Conversion"
   ]
  },
  {
   "cell_type": "code",
   "execution_count": 31,
   "id": "856f13fc-f76d-42f3-9829-ca46479feb34",
   "metadata": {},
   "outputs": [
    {
     "data": {
      "text/plain": [
       "int"
      ]
     },
     "execution_count": 31,
     "metadata": {},
     "output_type": "execute_result"
    }
   ],
   "source": [
    "number = \"200\"   # A string containing only an integer.\n",
    "x = int(number)\n",
    "type (x) "
   ]
  },
  {
   "cell_type": "code",
   "execution_count": 39,
   "id": "be654ff3-1b30-4936-8a23-8171ac16af59",
   "metadata": {},
   "outputs": [
    {
     "data": {
      "text/plain": [
       "str"
      ]
     },
     "execution_count": 39,
     "metadata": {},
     "output_type": "execute_result"
    }
   ],
   "source": [
    "number = 10.5   # first convert it to float, then to int.\n",
    "x = str(int(number))  \n",
    "type(x)"
   ]
  },
  {
   "cell_type": "code",
   "execution_count": null,
   "id": "fdd6e72e-d42f-428b-8303-7a63ab72aa5a",
   "metadata": {},
   "outputs": [],
   "source": []
  },
  {
   "cell_type": "code",
   "execution_count": null,
   "id": "eb34ca40-345b-402d-aff5-18949e51f560",
   "metadata": {},
   "outputs": [],
   "source": []
  },
  {
   "cell_type": "code",
   "execution_count": null,
   "id": "efc2503e-e1b1-4dde-a60f-20fbd11dad29",
   "metadata": {},
   "outputs": [],
   "source": []
  },
  {
   "cell_type": "code",
   "execution_count": null,
   "id": "db2f3dcf-8fac-4911-bc7f-35e644e9fab6",
   "metadata": {},
   "outputs": [],
   "source": []
  },
  {
   "cell_type": "code",
   "execution_count": null,
   "id": "961c98af-0990-4045-9a18-a1cc8f8807f0",
   "metadata": {},
   "outputs": [],
   "source": []
  },
  {
   "cell_type": "code",
   "execution_count": null,
   "id": "891d3043-956b-49aa-a731-5221ac452d7a",
   "metadata": {},
   "outputs": [],
   "source": []
  },
  {
   "cell_type": "code",
   "execution_count": null,
   "id": "6d1c47dc-8962-41df-90ef-f1e6ba5187fa",
   "metadata": {},
   "outputs": [],
   "source": []
  },
  {
   "cell_type": "code",
   "execution_count": null,
   "id": "b5581c86-c582-456f-9931-b2b849578b49",
   "metadata": {},
   "outputs": [],
   "source": []
  },
  {
   "cell_type": "code",
   "execution_count": null,
   "id": "736526fd-5eac-4192-8c83-b49cea97598d",
   "metadata": {},
   "outputs": [],
   "source": []
  },
  {
   "cell_type": "code",
   "execution_count": null,
   "id": "4dc4ac5a-e3ae-4470-b9d1-78514fd98e41",
   "metadata": {},
   "outputs": [],
   "source": []
  },
  {
   "cell_type": "code",
   "execution_count": null,
   "id": "58227ea0-e9d7-46da-8279-e736dead3653",
   "metadata": {},
   "outputs": [],
   "source": []
  },
  {
   "cell_type": "code",
   "execution_count": null,
   "id": "25a26934-cd71-491b-886d-1a3933d098a2",
   "metadata": {},
   "outputs": [],
   "source": []
  },
  {
   "cell_type": "code",
   "execution_count": null,
   "id": "c0f632a2-9553-4664-b0b0-0fc96352666b",
   "metadata": {},
   "outputs": [],
   "source": []
  },
  {
   "cell_type": "code",
   "execution_count": null,
   "id": "9e30acfd-cef3-4eb5-a814-d4bf430b2359",
   "metadata": {},
   "outputs": [],
   "source": []
  }
 ],
 "metadata": {
  "kernelspec": {
   "display_name": "Python 3 (ipykernel)",
   "language": "python",
   "name": "python3"
  },
  "language_info": {
   "codemirror_mode": {
    "name": "ipython",
    "version": 3
   },
   "file_extension": ".py",
   "mimetype": "text/x-python",
   "name": "python",
   "nbconvert_exporter": "python",
   "pygments_lexer": "ipython3",
   "version": "3.12.7"
  }
 },
 "nbformat": 4,
 "nbformat_minor": 5
}
