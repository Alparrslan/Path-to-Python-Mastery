{
 "cells": [
  {
   "cell_type": "markdown",
   "id": "f369462e",
   "metadata": {},
   "source": [
    "# Python Looping Techniques"
   ]
  },
  {
   "cell_type": "code",
   "execution_count": 1,
   "id": "b526433b",
   "metadata": {},
   "outputs": [
    {
     "name": "stdout",
     "output_type": "stream",
     "text": [
      "Iteration: 0\n",
      "Iteration: 1\n",
      "Iteration: 2\n",
      "Iteration: 3\n",
      "Iteration: 4\n"
     ]
    }
   ],
   "source": [
    "# FOR LOOP BASICS \n",
    "for i in range(5):\n",
    "    print(\"Iteration:\", i)"
   ]
  },
  {
   "cell_type": "code",
   "execution_count": 2,
   "id": "4d852c33",
   "metadata": {},
   "outputs": [
    {
     "name": "stdout",
     "output_type": "stream",
     "text": [
      "While Count: 0\n",
      "While Count: 1\n",
      "While Count: 2\n",
      "While Count: 3\n",
      "While Count: 4\n"
     ]
    }
   ],
   "source": [
    "#  WHILE LOOP BASICS \n",
    "count = 0\n",
    "while count < 5:\n",
    "    print(\"While Count:\", count)\n",
    "    count += 1\n"
   ]
  },
  {
   "cell_type": "code",
   "execution_count": 3,
   "id": "9ee6dd8c",
   "metadata": {},
   "outputs": [
    {
     "name": "stdout",
     "output_type": "stream",
     "text": [
      "Even: 2\n",
      "Even: 4\n",
      "Even: 6\n",
      "Even: 8\n"
     ]
    }
   ],
   "source": [
    "#  RANGE FUNCTION \n",
    "for num in range(2, 10, 2):  # even numbers from 2 to 8\n",
    "    print(\"Even:\", num)\n"
   ]
  },
  {
   "cell_type": "code",
   "execution_count": 4,
   "id": "a5bf5419",
   "metadata": {},
   "outputs": [
    {
     "name": "stdout",
     "output_type": "stream",
     "text": [
      "Break Example: 0\n",
      "Break Example: 1\n",
      "Break Example: 2\n",
      "Break Example: 3\n",
      "Break Example: 4\n"
     ]
    }
   ],
   "source": [
    "# BREAK STATEMENT \n",
    "for i in range(10):\n",
    "    if i == 5:\n",
    "        break  # Exit the loop when i is 5\n",
    "    print(\"Break Example:\", i)\n"
   ]
  },
  {
   "cell_type": "code",
   "execution_count": 5,
   "id": "587c6cd6",
   "metadata": {},
   "outputs": [
    {
     "name": "stdout",
     "output_type": "stream",
     "text": [
      "Continue Example: 0\n",
      "Continue Example: 1\n",
      "Continue Example: 3\n",
      "Continue Example: 4\n"
     ]
    }
   ],
   "source": [
    "#  CONTINUE STATEMENT \n",
    "for i in range(5):\n",
    "    if i == 2:\n",
    "        continue  # Skip when i is 2\n",
    "    print(\"Continue Example:\", i)"
   ]
  },
  {
   "cell_type": "code",
   "execution_count": 6,
   "id": "63bbf0ac",
   "metadata": {},
   "outputs": [],
   "source": [
    "#  PASS STATEMENT \n",
    "for i in range(3):\n",
    "    pass  # Placeholder for future code"
   ]
  },
  {
   "cell_type": "code",
   "execution_count": null,
   "id": "5b56a35b",
   "metadata": {},
   "outputs": [],
   "source": [
    "#  FOR LOOP WITH LIST \n",
    "fruits = [\"apple\", \"banana\", \"cherry\"]\n",
    "for fruit in fruits:\n",
    "    print(\"Fruit:\", fruit)\n"
   ]
  },
  {
   "cell_type": "code",
   "execution_count": null,
   "id": "2480c03a",
   "metadata": {},
   "outputs": [],
   "source": [
    "#  WHILE LOOP WITH LIST \n",
    "index = 0\n",
    "while index < len(fruits):\n",
    "    print(\"While Fruit:\", fruits[index])\n",
    "    index += 1"
   ]
  },
  {
   "cell_type": "code",
   "execution_count": null,
   "id": "07033ab9",
   "metadata": {},
   "outputs": [],
   "source": [
    "#  ENUMERATE LIST \n",
    "for index, fruit in enumerate(fruits):\n",
    "    print(f\"Index {index} => {fruit}\")\n"
   ]
  },
  {
   "cell_type": "code",
   "execution_count": null,
   "id": "06801139",
   "metadata": {},
   "outputs": [],
   "source": [
    "#  LOOP THROUGH TUPLE \n",
    "colors = (\"red\", \"green\", \"blue\")\n",
    "for color in colors:\n",
    "    print(\"Color:\", color)"
   ]
  },
  {
   "cell_type": "code",
   "execution_count": null,
   "id": "e33fb870",
   "metadata": {},
   "outputs": [],
   "source": [
    "#  LOOP THROUGH SET \n",
    "unique_items = {\"pen\", \"pencil\", \"eraser\"}\n",
    "for item in unique_items:\n",
    "    print(\"Set Item:\", item)"
   ]
  },
  {
   "cell_type": "code",
   "execution_count": null,
   "id": "aa0c36bc",
   "metadata": {},
   "outputs": [],
   "source": [
    "#  LOOP THROUGH DICTIONARY KEYS \n",
    "person = {\"name\": \"Alice\", \"age\": 30}\n",
    "for key in person:\n",
    "    print(\"Key:\", key)\n"
   ]
  },
  {
   "cell_type": "code",
   "execution_count": null,
   "id": "a754adca",
   "metadata": {},
   "outputs": [],
   "source": [
    "#  LOOP THROUGH DICTIONARY ITEMS \n",
    "for key, value in person.items():\n",
    "    print(f\"{key} : {value}\")\n"
   ]
  },
  {
   "cell_type": "code",
   "execution_count": null,
   "id": "7e907b21",
   "metadata": {},
   "outputs": [],
   "source": [
    "#  NESTED LOOPS \n",
    "for i in range(2):\n",
    "    for j in range(3):\n",
    "        print(f\"i={i}, j={j}\")"
   ]
  },
  {
   "cell_type": "code",
   "execution_count": null,
   "id": "25821cd3",
   "metadata": {},
   "outputs": [],
   "source": [
    "#  RANGE + LEN \n",
    "numbers = [10, 20, 30]\n",
    "for i in range(len(numbers)):\n",
    "    print(\"Index\", i, \"Value\", numbers[i])"
   ]
  },
  {
   "cell_type": "code",
   "execution_count": null,
   "id": "8067470f",
   "metadata": {},
   "outputs": [],
   "source": [
    "#  FOR LOOP WITH CONDITIONAL \n",
    "for num in range(10):\n",
    "    if num % 2 == 0:\n",
    "        print(\"Even:\", num)\n",
    "    else:\n",
    "        print(\"Odd:\", num)"
   ]
  },
  {
   "cell_type": "code",
   "execution_count": null,
   "id": "8aa96681",
   "metadata": {},
   "outputs": [],
   "source": [
    "#  WHILE WITH ELSE \n",
    "n = 0\n",
    "while n < 3:\n",
    "    print(\"While Number:\", n)\n",
    "    n += 1\n",
    "else:\n",
    "    print(\"Finished Loop\")"
   ]
  },
  {
   "cell_type": "code",
   "execution_count": null,
   "id": "ba94890a",
   "metadata": {},
   "outputs": [],
   "source": [
    "#  FOR WITH ELSE \n",
    "for i in range(3):\n",
    "    print(\"For Number:\", i)\n",
    "else:\n",
    "    print(\"End of For Loop\")"
   ]
  },
  {
   "cell_type": "code",
   "execution_count": null,
   "id": "8d6980f4",
   "metadata": {},
   "outputs": [],
   "source": [
    "#  LOOPING BACKWARDS \n",
    "for i in range(5, 0, -1):\n",
    "    print(\"Countdown:\", i)"
   ]
  },
  {
   "cell_type": "code",
   "execution_count": null,
   "id": "23d67fc3",
   "metadata": {},
   "outputs": [],
   "source": [
    "#  MULTIPLY ELEMENTS \n",
    "nums = [1, 2, 3, 4]\n",
    "for num in nums:\n",
    "    print(\"Double:\", num * 2)"
   ]
  },
  {
   "cell_type": "code",
   "execution_count": null,
   "id": "738991a0",
   "metadata": {},
   "outputs": [],
   "source": [
    "#  FILTER IN LOOP \n",
    "for num in nums:\n",
    "    if num > 2:\n",
    "        print(\"Greater than 2:\", num)"
   ]
  },
  {
   "cell_type": "code",
   "execution_count": null,
   "id": "b9cdb4b4",
   "metadata": {},
   "outputs": [],
   "source": [
    "#  ZIP MULTIPLE LISTS \n",
    "names = [\"Ali\", \"Ayşe\", \"Mehmet\"]\n",
    "ages = [25, 30, 22]\n",
    "for name, age in zip(names, ages):\n",
    "    print(f\"{name} is {age} years old\")\n"
   ]
  },
  {
   "cell_type": "code",
   "execution_count": null,
   "id": "147bc391",
   "metadata": {},
   "outputs": [],
   "source": [
    "#  NESTED DATA STRUCTURE LOOP \n",
    "students = [\n",
    "    {\"name\": \"Ali\", \"grades\": [80, 90]},\n",
    "    {\"name\": \"Ayşe\", \"grades\": [70, 75]}\n",
    "]\n",
    "for student in students:\n",
    "    print(\"Student:\", student[\"name\"])\n",
    "    for grade in student[\"grades\"]:\n",
    "        print(\" Grade:\", grade)\n"
   ]
  },
  {
   "cell_type": "code",
   "execution_count": null,
   "id": "beb5bd78",
   "metadata": {},
   "outputs": [],
   "source": [
    "#  LIST COMPREHENSION \n",
    "squares = [x**2 for x in range(6)]\n",
    "print(\"Squares:\", squares)\n"
   ]
  },
  {
   "cell_type": "code",
   "execution_count": null,
   "id": "067fe367",
   "metadata": {},
   "outputs": [],
   "source": [
    "#  DICT COMPREHENSION \n",
    "square_map = {x: x**2 for x in range(4)}\n",
    "print(\"Dict Squares:\", square_map)\n"
   ]
  },
  {
   "cell_type": "code",
   "execution_count": null,
   "id": "a6904b5a",
   "metadata": {},
   "outputs": [],
   "source": [
    "#  BREAK IN WHILE \n",
    "x = 0\n",
    "while True:\n",
    "    if x == 3:\n",
    "        break\n",
    "    print(\"Breaking at:\", x)\n",
    "    x += 1"
   ]
  },
  {
   "cell_type": "code",
   "execution_count": null,
   "id": "bb36c0c1",
   "metadata": {},
   "outputs": [],
   "source": [
    "#  CONTINUE IN WHILE \n",
    "y = 0\n",
    "while y < 5:\n",
    "    y += 1\n",
    "    if y == 3:\n",
    "        continue\n",
    "    print(\"Continue While:\", y)"
   ]
  },
  {
   "cell_type": "code",
   "execution_count": null,
   "id": "b0165407",
   "metadata": {},
   "outputs": [],
   "source": [
    "#  LOOP OVER STRING \n",
    "word = \"Python\"\n",
    "for char in word:\n",
    "    print(\"Char:\", char)"
   ]
  },
  {
   "cell_type": "code",
   "execution_count": null,
   "id": "11cd3105",
   "metadata": {},
   "outputs": [],
   "source": [
    "#  SKIP EVEN NUMBERS \n",
    "for i in range(10):\n",
    "    if i % 2 == 0:\n",
    "        continue\n",
    "    print(\"Odd only:\", i)"
   ]
  },
  {
   "cell_type": "code",
   "execution_count": null,
   "id": "6041dd2e",
   "metadata": {},
   "outputs": [],
   "source": [
    "#  MULTIPLE CONDITIONS \n",
    "for i in range(1, 11):\n",
    "    if i % 2 == 0 and i % 3 == 0:\n",
    "        print(\"Divisible by 2 and 3:\", i)"
   ]
  },
  {
   "cell_type": "code",
   "execution_count": null,
   "id": "ca8ef570",
   "metadata": {},
   "outputs": [],
   "source": [
    "#  NESTED DICTIONARIES \n",
    "team = {\n",
    "    \"player1\": {\"score\": 10},\n",
    "    \"player2\": {\"score\": 15}}\n",
    "for name, data in team.items():\n",
    "    print(name, \"score is\", data[\"score\"])"
   ]
  },
  {
   "cell_type": "code",
   "execution_count": null,
   "id": "8b21feae",
   "metadata": {},
   "outputs": [],
   "source": [
    "#  FLATTEN NESTED LIST \n",
    "matrix = [[1, 2], [3, 4]]\n",
    "for row in matrix:\n",
    "    for val in row:\n",
    "        print(\"Matrix val:\", val)"
   ]
  },
  {
   "cell_type": "code",
   "execution_count": null,
   "id": "331688fd",
   "metadata": {},
   "outputs": [],
   "source": [
    "#  COMPREHENSION WITH CONDITIONAL \n",
    "evens = [x for x in range(10) if x % 2 == 0]\n",
    "print(\"Even numbers:\", evens)"
   ]
  },
  {
   "cell_type": "code",
   "execution_count": null,
   "id": "ae8ed10b",
   "metadata": {},
   "outputs": [],
   "source": [
    "#  TUPLE UNPACKING \n",
    "pairs = [(1, 'a'), (2, 'b')]\n",
    "for num, char in pairs:\n",
    "    print(\"Tuple:\", num, char)"
   ]
  },
  {
   "cell_type": "code",
   "execution_count": null,
   "id": "7f8dc223",
   "metadata": {},
   "outputs": [],
   "source": [
    "#  INFINITE WHILE EXAMPLE (SAFE) \n",
    "counter = 0\n",
    "while True:\n",
    "    print(\"Looping forever (but breaks at 2)\")\n",
    "    counter += 1\n",
    "    if counter == 2:\n",
    "        break"
   ]
  },
  {
   "cell_type": "code",
   "execution_count": null,
   "id": "c9b843e8",
   "metadata": {},
   "outputs": [],
   "source": [
    "#  REVERSE LIST \n",
    "data = [10, 20, 30]\n",
    "for val in reversed(data):\n",
    "    print(\"Reversed:\", val)"
   ]
  },
  {
   "cell_type": "code",
   "execution_count": null,
   "id": "ec10b406",
   "metadata": {},
   "outputs": [],
   "source": [
    "#  SORTED LOOP \n",
    "unsorted = [5, 1, 3]\n",
    "for val in sorted(unsorted):\n",
    "    print(\"Sorted:\", val)"
   ]
  },
  {
   "cell_type": "code",
   "execution_count": null,
   "id": "c26f0573",
   "metadata": {},
   "outputs": [],
   "source": [
    "#  RANGE NEGATIVE \n",
    "for i in range(-3, 1):\n",
    "    print(\"Negative Range:\", i)"
   ]
  },
  {
   "cell_type": "code",
   "execution_count": null,
   "id": "9ac8e462",
   "metadata": {},
   "outputs": [],
   "source": [
    "#  INDEX AND VALUE \n",
    "for i, v in enumerate([\"a\", \"b\", \"c\"]):\n",
    "    print(f\"Index: {i} | Value: {v}\")\n"
   ]
  },
  {
   "cell_type": "code",
   "execution_count": null,
   "id": "baa1de88",
   "metadata": {},
   "outputs": [],
   "source": []
  },
  {
   "cell_type": "code",
   "execution_count": null,
   "id": "05187cad",
   "metadata": {},
   "outputs": [],
   "source": []
  }
 ],
 "metadata": {
  "kernelspec": {
   "display_name": "Python 3",
   "language": "python",
   "name": "python3"
  },
  "language_info": {
   "codemirror_mode": {
    "name": "ipython",
    "version": 3
   },
   "file_extension": ".py",
   "mimetype": "text/x-python",
   "name": "python",
   "nbconvert_exporter": "python",
   "pygments_lexer": "ipython3",
   "version": "3.12.6"
  }
 },
 "nbformat": 4,
 "nbformat_minor": 5
}
