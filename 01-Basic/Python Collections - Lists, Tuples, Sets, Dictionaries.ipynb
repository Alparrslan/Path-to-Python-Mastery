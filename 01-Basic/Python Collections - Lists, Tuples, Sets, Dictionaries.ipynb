{
 "cells": [
  {
   "cell_type": "markdown",
   "id": "cb92f323",
   "metadata": {},
   "source": [
    "# Python Collections - Lists, Tuples, Sets, Dictionaries\n"
   ]
  },
  {
   "cell_type": "code",
   "execution_count": 16,
   "metadata": {},
   "outputs": [
    {
     "data": {
      "text/plain": [
       "[1, 2, 3, 4, 5]"
      ]
     },
     "execution_count": 16,
     "metadata": {},
     "output_type": "execute_result"
    }
   ],
   "source": [
    "# Basit bir liste oluşturalım\n",
    "my_list = [1, 2, 3, 4, 5]\n",
    "my_list\n"
   ]
  },
  {
   "cell_type": "code",
   "execution_count": 17,
   "id": "b1126960",
   "metadata": {},
   "outputs": [
    {
     "name": "stdout",
     "output_type": "stream",
     "text": [
      "1\n",
      "5\n"
     ]
    }
   ],
   "source": [
    "print(my_list[0])  # İlk eleman\n",
    "print(my_list[-1]) # Son eleman\n"
   ]
  },
  {
   "cell_type": "code",
   "execution_count": 18,
   "id": "c779053a",
   "metadata": {},
   "outputs": [
    {
     "name": "stdout",
     "output_type": "stream",
     "text": [
      "[1, 2, 3, 4, 5, 6]\n"
     ]
    }
   ],
   "source": [
    "my_list.append(6)\n",
    "print(my_list)\n"
   ]
  },
  {
   "cell_type": "code",
   "execution_count": 19,
   "id": "aad3a740",
   "metadata": {},
   "outputs": [
    {
     "name": "stdout",
     "output_type": "stream",
     "text": [
      "[1, 2, 99, 3, 4, 5, 6]\n"
     ]
    }
   ],
   "source": [
    "my_list.insert(2, 99)\n",
    "print(my_list)\n"
   ]
  },
  {
   "cell_type": "code",
   "execution_count": 20,
   "id": "2c2e2755",
   "metadata": {},
   "outputs": [
    {
     "name": "stdout",
     "output_type": "stream",
     "text": [
      "[1, 2, 99, 4, 5, 6]\n"
     ]
    }
   ],
   "source": [
    "my_list.remove(3)\n",
    "print(my_list)"
   ]
  },
  {
   "cell_type": "code",
   "execution_count": 21,
   "id": "4a733c95",
   "metadata": {},
   "outputs": [
    {
     "name": "stdout",
     "output_type": "stream",
     "text": [
      "[1, 99, 4, 5, 6]\n"
     ]
    }
   ],
   "source": [
    "del my_list[1]\n",
    "print(my_list)"
   ]
  },
  {
   "cell_type": "code",
   "execution_count": 22,
   "id": "53929cb9",
   "metadata": {},
   "outputs": [
    {
     "name": "stdout",
     "output_type": "stream",
     "text": [
      "[6, 5, 4, 99, 1]\n"
     ]
    }
   ],
   "source": [
    "my_list.reverse()\n",
    "print(my_list)\n"
   ]
  },
  {
   "cell_type": "code",
   "execution_count": 23,
   "id": "36984756",
   "metadata": {},
   "outputs": [
    {
     "name": "stdout",
     "output_type": "stream",
     "text": [
      "[1, 4, 5, 6, 99]\n"
     ]
    }
   ],
   "source": [
    "my_list.sort()\n",
    "print(my_list)"
   ]
  },
  {
   "cell_type": "code",
   "execution_count": null,
   "id": "b738c059",
   "metadata": {},
   "outputs": [
    {
     "name": "stdout",
     "output_type": "stream",
     "text": [
      "[1, 4, 5, 6, 99]\n"
     ]
    }
   ],
   "source": [
    "copy_list = my_list.copy()\n",
    "print(copy_list)"
   ]
  },
  {
   "cell_type": "code",
   "execution_count": 25,
   "id": "66f53dd0",
   "metadata": {},
   "outputs": [
    {
     "name": "stdout",
     "output_type": "stream",
     "text": [
      "[0, 1, 4, 9, 16, 25, 36, 49, 64, 81]\n"
     ]
    }
   ],
   "source": [
    "squares = [x**2 for x in range(10)]\n",
    "print(squares)\n"
   ]
  },
  {
   "cell_type": "markdown",
   "id": "53041766",
   "metadata": {},
   "source": [
    "#  ===== TUPLES ====="
   ]
  },
  {
   "cell_type": "code",
   "execution_count": 28,
   "id": "d9537db0",
   "metadata": {},
   "outputs": [
    {
     "name": "stdout",
     "output_type": "stream",
     "text": [
      "(10, 20, 30)\n",
      "10\n"
     ]
    }
   ],
   "source": [
    "my_tuple = (10, 20, 30)\n",
    "print(my_tuple)\n",
    "print(my_tuple[0])"
   ]
  },
  {
   "cell_type": "code",
   "execution_count": 29,
   "id": "b41ca544",
   "metadata": {},
   "outputs": [
    {
     "name": "stdout",
     "output_type": "stream",
     "text": [
      "(10, 20, 30, 40)\n"
     ]
    }
   ],
   "source": [
    "# Tuple'lar değiştirilemez, bu kod hata verir:\n",
    "# my_tuple[0] = 99\n",
    "\n",
    "temp_list = list(my_tuple)\n",
    "temp_list.append(40)\n",
    "print(tuple(temp_list))"
   ]
  },
  {
   "cell_type": "code",
   "execution_count": null,
   "id": "5d292026",
   "metadata": {},
   "outputs": [
    {
     "name": "stdout",
     "output_type": "stream",
     "text": [
      "10 20 30\n"
     ]
    }
   ],
   "source": [
    "a, b, c = my_tuple\n",
    "print(a, b, c)\n"
   ]
  },
  {
   "cell_type": "markdown",
   "id": "16184a97",
   "metadata": {},
   "source": [
    "# ===== SETS ====="
   ]
  },
  {
   "cell_type": "code",
   "execution_count": 31,
   "id": "8ef0b3ba",
   "metadata": {},
   "outputs": [],
   "source": [
    "my_set = {1, 2, 3, 3, 4}"
   ]
  },
  {
   "cell_type": "code",
   "execution_count": 32,
   "id": "3e0f6c0b",
   "metadata": {},
   "outputs": [
    {
     "name": "stdout",
     "output_type": "stream",
     "text": [
      "{1, 2, 3, 4, 5}\n"
     ]
    }
   ],
   "source": [
    "my_set.add(5)\n",
    "print(my_set)"
   ]
  },
  {
   "cell_type": "code",
   "execution_count": 33,
   "id": "a472ca2a",
   "metadata": {},
   "outputs": [
    {
     "name": "stdout",
     "output_type": "stream",
     "text": [
      "{1, 3, 4, 5}\n"
     ]
    }
   ],
   "source": [
    "my_set.remove(2)\n",
    "print(my_set)\n"
   ]
  },
  {
   "cell_type": "code",
   "execution_count": 34,
   "id": "8e24c30b",
   "metadata": {},
   "outputs": [
    {
     "name": "stdout",
     "output_type": "stream",
     "text": [
      "{3, 4, 5}\n"
     ]
    }
   ],
   "source": [
    "my_set.pop()\n",
    "print(my_set)"
   ]
  },
  {
   "cell_type": "code",
   "execution_count": 35,
   "id": "6bb9d984",
   "metadata": {},
   "outputs": [],
   "source": [
    "set1 = {1, 2, 3}\n",
    "set2 = {3, 4, 5}"
   ]
  },
  {
   "cell_type": "code",
   "execution_count": 36,
   "id": "eecd48c3",
   "metadata": {},
   "outputs": [
    {
     "name": "stdout",
     "output_type": "stream",
     "text": [
      "{1, 2, 3, 4, 5}\n",
      "{3}\n",
      "{1, 2}\n"
     ]
    }
   ],
   "source": [
    "print(set1.union(set2))\n",
    "print(set1.intersection(set2))\n",
    "print(set1.difference(set2))"
   ]
  },
  {
   "cell_type": "markdown",
   "id": "abe0c2ac",
   "metadata": {},
   "source": [
    "# ===== DICTIONARIES =====\n"
   ]
  },
  {
   "cell_type": "code",
   "execution_count": 37,
   "id": "c6fb2f82",
   "metadata": {},
   "outputs": [
    {
     "name": "stdout",
     "output_type": "stream",
     "text": [
      "{'name': 'Alice', 'age': 25}\n",
      "Alice\n"
     ]
    }
   ],
   "source": [
    "\n",
    "my_dict = {\"name\": \"Alice\", \"age\": 25}\n",
    "print(my_dict)\n",
    "print(my_dict[\"name\"])"
   ]
  },
  {
   "cell_type": "code",
   "execution_count": 38,
   "id": "95ce3ce9",
   "metadata": {},
   "outputs": [
    {
     "name": "stdout",
     "output_type": "stream",
     "text": [
      "{'name': 'Alice', 'age': 25, 'city': 'Istanbul'}\n"
     ]
    }
   ],
   "source": [
    "my_dict[\"city\"] = \"Istanbul\"\n",
    "print(my_dict)"
   ]
  },
  {
   "cell_type": "code",
   "execution_count": 39,
   "id": "2ddc4b61",
   "metadata": {},
   "outputs": [
    {
     "name": "stdout",
     "output_type": "stream",
     "text": [
      "{'name': 'Alice', 'age': 26, 'city': 'Istanbul'}\n"
     ]
    }
   ],
   "source": [
    "\n",
    "my_dict[\"age\"] = 26\n",
    "print(my_dict)"
   ]
  },
  {
   "cell_type": "code",
   "execution_count": null,
   "id": "766104aa",
   "metadata": {},
   "outputs": [],
   "source": [
    "\n",
    "del my_dict[\"city\"]\n",
    "print(my_dict)\n"
   ]
  },
  {
   "cell_type": "code",
   "execution_count": 40,
   "id": "374bf47f",
   "metadata": {},
   "outputs": [
    {
     "name": "stdout",
     "output_type": "stream",
     "text": [
      "dict_keys(['name', 'age', 'city'])\n",
      "dict_values(['Alice', 26, 'Istanbul'])\n",
      "dict_items([('name', 'Alice'), ('age', 26), ('city', 'Istanbul')])\n"
     ]
    }
   ],
   "source": [
    "print(my_dict.keys())\n",
    "print(my_dict.values())\n",
    "print(my_dict.items())"
   ]
  },
  {
   "cell_type": "code",
   "execution_count": null,
   "id": "4974ff12",
   "metadata": {},
   "outputs": [
    {
     "name": "stdout",
     "output_type": "stream",
     "text": [
      "name : Alice\n",
      "age : 26\n",
      "city : Istanbul\n"
     ]
    }
   ],
   "source": [
    "for key, value in my_dict.items():\n",
    "    print(key, \":\", value)"
   ]
  },
  {
   "cell_type": "markdown",
   "id": "8ac3952a",
   "metadata": {},
   "source": [
    "# ===== COMPLEX STRUCTURES =====\n"
   ]
  },
  {
   "cell_type": "code",
   "execution_count": 42,
   "id": "78065844",
   "metadata": {},
   "outputs": [
    {
     "name": "stdout",
     "output_type": "stream",
     "text": [
      "Ayşe\n"
     ]
    }
   ],
   "source": [
    "people = [\n",
    "    {\"name\": \"Ali\", \"age\": 20},\n",
    "    {\"name\": \"Ayşe\", \"age\": 22}\n",
    "]\n",
    "print(people[1][\"name\"])\n"
   ]
  },
  {
   "cell_type": "code",
   "execution_count": 43,
   "id": "3acb9747",
   "metadata": {},
   "outputs": [
    {
     "name": "stdout",
     "output_type": "stream",
     "text": [
      "[90, 85, 88]\n"
     ]
    }
   ],
   "source": [
    "grades = {\n",
    "    \"Math\": [90, 85, 88],\n",
    "    \"Physics\": [75, 80, 82]\n",
    "}\n",
    "print(grades[\"Math\"])\n"
   ]
  },
  {
   "cell_type": "code",
   "execution_count": 44,
   "id": "e2ad5533",
   "metadata": {},
   "outputs": [
    {
     "name": "stdout",
     "output_type": "stream",
     "text": [
      "{'name': 'Alice', 'age': 26, 'city': 'Istanbul'}\n"
     ]
    }
   ],
   "source": [
    "copy_dict = my_dict.copy()\n",
    "print(copy_dict)"
   ]
  },
  {
   "cell_type": "code",
   "execution_count": 45,
   "id": "333ed6cd",
   "metadata": {},
   "outputs": [
    {
     "name": "stdout",
     "output_type": "stream",
     "text": [
      "{0: 0, 1: 1, 2: 4, 3: 9, 4: 16}\n"
     ]
    }
   ],
   "source": [
    "\n",
    "squared = {x: x**2 for x in range(5)}\n",
    "print(squared)\n"
   ]
  },
  {
   "cell_type": "code",
   "execution_count": 46,
   "id": "1804dcd1",
   "metadata": {},
   "outputs": [
    {
     "name": "stdout",
     "output_type": "stream",
     "text": [
      "[('Ayşe', 1), ('Mehmet', 2), ('Ali', 3)]\n"
     ]
    }
   ],
   "source": [
    "\n",
    "nums = [(\"Ali\", 3), (\"Ayşe\", 1), (\"Mehmet\", 2)]\n",
    "print(sorted(nums, key=lambda x: x[1]))\n"
   ]
  },
  {
   "cell_type": "code",
   "execution_count": 47,
   "id": "001aa780",
   "metadata": {},
   "outputs": [
    {
     "name": "stdout",
     "output_type": "stream",
     "text": [
      "[1, 2, 3, 4]\n"
     ]
    }
   ],
   "source": [
    "\n",
    "raw_list = [1, 2, 2, 3, 4, 4]\n",
    "print(list(set(raw_list)))\n"
   ]
  },
  {
   "cell_type": "code",
   "execution_count": 48,
   "id": "d77f7c39",
   "metadata": {},
   "outputs": [
    {
     "name": "stdout",
     "output_type": "stream",
     "text": [
      "{'a': 1, 'b': 2}\n"
     ]
    }
   ],
   "source": [
    "\n",
    "pair_list = [(\"a\", 1), (\"b\", 2)]\n",
    "print(dict(pair_list))"
   ]
  },
  {
   "cell_type": "code",
   "execution_count": 49,
   "id": "0c18ae2a",
   "metadata": {},
   "outputs": [
    {
     "name": "stdout",
     "output_type": "stream",
     "text": [
      "[99, 6, 5, 4, 1]\n"
     ]
    }
   ],
   "source": [
    "\n",
    "reversed_list = my_list[::-1]\n",
    "print(reversed_list)"
   ]
  },
  {
   "cell_type": "code",
   "execution_count": 50,
   "id": "1d307857",
   "metadata": {},
   "outputs": [
    {
     "name": "stdout",
     "output_type": "stream",
     "text": [
      "[[0, 0, 0], [0, 1, 2], [0, 2, 4]]\n",
      "True\n",
      "26\n",
      "5\n",
      "3\n"
     ]
    }
   ],
   "source": [
    "matrix = [[i*j for j in range(3)] for i in range(3)]\n",
    "print(matrix)\n",
    "\n",
    "print(\"apple\" in {\"apple\", \"banana\"})\n",
    "print(my_dict.get(\"age\"))\n",
    "\n",
    "print(len(my_list))\n",
    "print(len(my_dict))"
   ]
  },
  {
   "cell_type": "code",
   "execution_count": 51,
   "id": "ce500704",
   "metadata": {},
   "outputs": [
    {
     "name": "stdout",
     "output_type": "stream",
     "text": [
      "Tuple değiştirilemez: 'tuple' object does not support item assignment\n",
      "{9, 2, 5, 1}\n",
      "{'a': 0, 'b': 0, 'c': 0}\n",
      "([1, 2], [3, 4])\n",
      "[2, 4, 6]\n",
      "{1, 2}\n",
      "{4, 5}\n"
     ]
    }
   ],
   "source": [
    "# Tuple değiştirilemezlik kontrolü\n",
    "try:\n",
    "    my_tuple[0] = 100\n",
    "except TypeError as e:\n",
    "    print(\"Tuple değiştirilemez:\", e)\n",
    "\n",
    "set3 = {9, 1, 5, 2}\n",
    "print(set3)\n",
    "\n",
    "keys = [\"a\", \"b\", \"c\"]\n",
    "print(dict.fromkeys(keys, 0))\n",
    "\n",
    "t = ([1, 2], [3, 4])\n",
    "print(t)\n",
    "\n",
    "print([x*2 for x in [1, 2, 3]])\n",
    "\n",
    "a = {1, 2, 3}\n",
    "b = {3, 4, 5}\n",
    "print(a - b)\n",
    "print(b - a)"
   ]
  },
  {
   "cell_type": "code",
   "execution_count": null,
   "id": "78d190eb",
   "metadata": {},
   "outputs": [],
   "source": []
  },
  {
   "cell_type": "code",
   "execution_count": null,
   "id": "5d77f417",
   "metadata": {},
   "outputs": [],
   "source": []
  },
  {
   "cell_type": "code",
   "execution_count": null,
   "id": "c84bc3ce",
   "metadata": {},
   "outputs": [],
   "source": []
  },
  {
   "cell_type": "code",
   "execution_count": null,
   "id": "ec4c7138",
   "metadata": {},
   "outputs": [],
   "source": []
  },
  {
   "cell_type": "code",
   "execution_count": null,
   "id": "f3664964",
   "metadata": {},
   "outputs": [],
   "source": []
  },
  {
   "cell_type": "code",
   "execution_count": null,
   "id": "5dadbd8c",
   "metadata": {},
   "outputs": [],
   "source": []
  }
 ],
 "metadata": {
  "kernelspec": {
   "display_name": "Python 3",
   "language": "python",
   "name": "python3"
  },
  "language_info": {
   "codemirror_mode": {
    "name": "ipython",
    "version": 3
   },
   "file_extension": ".py",
   "mimetype": "text/x-python",
   "name": "python",
   "nbconvert_exporter": "python",
   "pygments_lexer": "ipython3",
   "version": "3.12.6"
  }
 },
 "nbformat": 4,
 "nbformat_minor": 5
}
