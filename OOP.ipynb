{
 "cells": [
  {
   "cell_type": "markdown",
   "id": "23fc8cbf",
   "metadata": {},
   "source": [
    "## Object-Oriented-Programming-Python-Examples\n"
   ]
  },
  {
   "cell_type": "code",
   "execution_count": 1,
   "id": "b9e64909",
   "metadata": {},
   "outputs": [],
   "source": [
    "class Vehicle:\n",
    "    def move(self):\n",
    "        print(\"The vehicle is moving\")"
   ]
  },
  {
   "cell_type": "code",
   "execution_count": 2,
   "id": "422e4691",
   "metadata": {},
   "outputs": [
    {
     "name": "stdout",
     "output_type": "stream",
     "text": [
      "The vehicle is moving\n"
     ]
    }
   ],
   "source": [
    "car = Vehicle()\n",
    "car.move()"
   ]
  },
  {
   "cell_type": "code",
   "execution_count": 3,
   "id": "5b234659",
   "metadata": {},
   "outputs": [],
   "source": [
    "class Person:\n",
    "    def __init__(self, name, age):\n",
    "        self.name = name\n",
    "        self.age = age"
   ]
  },
  {
   "cell_type": "code",
   "execution_count": 4,
   "id": "0876d11e",
   "metadata": {},
   "outputs": [
    {
     "name": "stdout",
     "output_type": "stream",
     "text": [
      "Alice 30\n"
     ]
    }
   ],
   "source": [
    "p1 = Person(\"Alice\", 30)\n",
    "print(p1.name, p1.age)"
   ]
  },
  {
   "cell_type": "code",
   "execution_count": 5,
   "id": "d239884a",
   "metadata": {},
   "outputs": [],
   "source": [
    "class Calculator:\n",
    "    def add(self, a, b):\n",
    "        return a + b"
   ]
  },
  {
   "cell_type": "code",
   "execution_count": 6,
   "id": "60298121",
   "metadata": {},
   "outputs": [
    {
     "name": "stdout",
     "output_type": "stream",
     "text": [
      "30\n"
     ]
    }
   ],
   "source": [
    "calc = Calculator()\n",
    "print(calc.add(10, 20))"
   ]
  },
  {
   "cell_type": "code",
   "execution_count": 7,
   "id": "9942f401",
   "metadata": {},
   "outputs": [],
   "source": [
    "class Dog:\n",
    "    def __init__(self, name):\n",
    "        self.name = name\n",
    "    def bark(self):\n",
    "        print(f\"{self.name} says woof!\")"
   ]
  },
  {
   "cell_type": "code",
   "execution_count": 8,
   "id": "9830f162",
   "metadata": {},
   "outputs": [
    {
     "name": "stdout",
     "output_type": "stream",
     "text": [
      "Max says woof!\n"
     ]
    }
   ],
   "source": [
    "d = Dog(\"Max\")\n",
    "d.bark()"
   ]
  },
  {
   "cell_type": "code",
   "execution_count": 9,
   "id": "6c2645aa",
   "metadata": {},
   "outputs": [],
   "source": [
    "class Animal:\n",
    "    def __init__(self, species):\n",
    "        self.species = species\n",
    "    def speak(self):\n",
    "        print(\"Some generic sound\")"
   ]
  },
  {
   "cell_type": "code",
   "execution_count": 10,
   "id": "69410d86",
   "metadata": {},
   "outputs": [],
   "source": [
    "class Cat(Animal):\n",
    "    def speak(self):\n",
    "        print(\"Meow\")"
   ]
  },
  {
   "cell_type": "code",
   "execution_count": 11,
   "id": "4c8e0fc8",
   "metadata": {},
   "outputs": [
    {
     "name": "stdout",
     "output_type": "stream",
     "text": [
      "Feline\n",
      "Meow\n"
     ]
    }
   ],
   "source": [
    "c = Cat(\"Feline\")\n",
    "print(c.species)\n",
    "c.speak()"
   ]
  },
  {
   "cell_type": "code",
   "execution_count": 12,
   "id": "c475b2f6",
   "metadata": {},
   "outputs": [],
   "source": [
    "class Tiger(Cat):\n",
    "    def roar(self):\n",
    "        print(\"Roar\")"
   ]
  },
  {
   "cell_type": "code",
   "execution_count": 13,
   "id": "2fbf0a05",
   "metadata": {},
   "outputs": [
    {
     "name": "stdout",
     "output_type": "stream",
     "text": [
      "Meow\n",
      "Roar\n"
     ]
    }
   ],
   "source": [
    "t = Tiger(\"Big Cat\")\n",
    "t.speak()\n",
    "t.roar()"
   ]
  },
  {
   "cell_type": "code",
   "execution_count": 14,
   "id": "9efbfde8",
   "metadata": {},
   "outputs": [],
   "source": [
    "class Bird:\n",
    "    def fly(self):\n",
    "        print(\"Bird flies\")\n",
    "\n",
    "class Penguin(Bird):\n",
    "    def fly(self):\n",
    "        print(\"Penguins cannot fly\")"
   ]
  },
  {
   "cell_type": "code",
   "execution_count": 15,
   "id": "f179e4f5",
   "metadata": {},
   "outputs": [
    {
     "name": "stdout",
     "output_type": "stream",
     "text": [
      "Bird flies\n",
      "Penguins cannot fly\n"
     ]
    }
   ],
   "source": [
    "for animal in [Bird(), Penguin()]:\n",
    "    animal.fly()"
   ]
  },
  {
   "cell_type": "code",
   "execution_count": 16,
   "id": "497361a0",
   "metadata": {},
   "outputs": [],
   "source": [
    "def animal_sound(animal):\n",
    "    animal.speak()"
   ]
  },
  {
   "cell_type": "code",
   "execution_count": 17,
   "id": "958b143d",
   "metadata": {},
   "outputs": [
    {
     "name": "stdout",
     "output_type": "stream",
     "text": [
      "Meow\n"
     ]
    }
   ],
   "source": [
    "animal_sound(Cat(\"Kitty\"))"
   ]
  },
  {
   "cell_type": "code",
   "execution_count": 18,
   "id": "77a00d37",
   "metadata": {},
   "outputs": [],
   "source": [
    "class Book:\n",
    "    def __init__(self, title):\n",
    "        self.title = title\n",
    "    def __str__(self):\n",
    "        return f\"Book: {self.title}\""
   ]
  },
  {
   "cell_type": "code",
   "execution_count": 19,
   "id": "7f233228",
   "metadata": {},
   "outputs": [
    {
     "name": "stdout",
     "output_type": "stream",
     "text": [
      "Book: 1984\n"
     ]
    }
   ],
   "source": [
    "b = Book(\"1984\")\n",
    "print(b)"
   ]
  },
  {
   "cell_type": "code",
   "execution_count": 20,
   "id": "d8c0bb98",
   "metadata": {},
   "outputs": [],
   "source": [
    "class Playlist:\n",
    "    def __init__(self, songs):\n",
    "        self.songs = songs\n",
    "    def __len__(self):\n",
    "        return len(self.songs)"
   ]
  },
  {
   "cell_type": "code",
   "execution_count": 21,
   "id": "492a6ce8",
   "metadata": {},
   "outputs": [
    {
     "name": "stdout",
     "output_type": "stream",
     "text": [
      "2\n"
     ]
    }
   ],
   "source": [
    "pl = Playlist([\"Song1\", \"Song2\"])\n",
    "print(len(pl))"
   ]
  },
  {
   "cell_type": "code",
   "execution_count": 22,
   "id": "62c1f927",
   "metadata": {},
   "outputs": [],
   "source": [
    "class User:\n",
    "    def __init__(self, username):\n",
    "        self.username = username\n",
    "    def __repr__(self):\n",
    "        return f\"User('{self.username}')\""
   ]
  },
  {
   "cell_type": "code",
   "execution_count": 23,
   "id": "fc1fc5f4",
   "metadata": {},
   "outputs": [
    {
     "name": "stdout",
     "output_type": "stream",
     "text": [
      "User('john_doe')\n"
     ]
    }
   ],
   "source": [
    "u = User(\"john_doe\")\n",
    "print(u)"
   ]
  },
  {
   "cell_type": "code",
   "execution_count": 24,
   "id": "fb319ac4",
   "metadata": {},
   "outputs": [],
   "source": [
    "class Math:\n",
    "    @staticmethod\n",
    "    def square(x):\n",
    "        return x * x"
   ]
  },
  {
   "cell_type": "code",
   "execution_count": 25,
   "id": "5d594161",
   "metadata": {},
   "outputs": [
    {
     "name": "stdout",
     "output_type": "stream",
     "text": [
      "25\n"
     ]
    }
   ],
   "source": [
    "print(Math.square(5))"
   ]
  },
  {
   "cell_type": "code",
   "execution_count": 26,
   "id": "f5f51a78",
   "metadata": {},
   "outputs": [],
   "source": [
    "class Account:\n",
    "    interest_rate = 0.05\n",
    "\n",
    "    @classmethod\n",
    "    def set_rate(cls, rate):\n",
    "        cls.interest_rate = rate"
   ]
  },
  {
   "cell_type": "code",
   "execution_count": 27,
   "id": "864925c7",
   "metadata": {},
   "outputs": [
    {
     "name": "stdout",
     "output_type": "stream",
     "text": [
      "0.07\n"
     ]
    }
   ],
   "source": [
    "Account.set_rate(0.07)\n",
    "print(Account.interest_rate)"
   ]
  },
  {
   "cell_type": "code",
   "execution_count": 28,
   "id": "a6dff264",
   "metadata": {},
   "outputs": [],
   "source": [
    "class Secret:\n",
    "    def __init__(self):\n",
    "        self.__code = \"1234\""
   ]
  },
  {
   "cell_type": "code",
   "execution_count": 29,
   "id": "94a64d37",
   "metadata": {},
   "outputs": [
    {
     "name": "stdout",
     "output_type": "stream",
     "text": [
      "1234\n"
     ]
    }
   ],
   "source": [
    "s = Secret()\n",
    "print(s._Secret__code)"
   ]
  },
  {
   "cell_type": "code",
   "execution_count": 30,
   "id": "5cf18fc3",
   "metadata": {},
   "outputs": [],
   "source": [
    "class Product:\n",
    "    def __init__(self, price):\n",
    "        self._price = price\n",
    "\n",
    "    @property\n",
    "    def price(self):\n",
    "        return self._price"
   ]
  },
  {
   "cell_type": "code",
   "execution_count": 31,
   "id": "0c9b0cdf",
   "metadata": {},
   "outputs": [
    {
     "name": "stdout",
     "output_type": "stream",
     "text": [
      "100\n"
     ]
    }
   ],
   "source": [
    "prod = Product(100)\n",
    "print(prod.price)"
   ]
  },
  {
   "cell_type": "code",
   "execution_count": 32,
   "id": "52719aaf",
   "metadata": {},
   "outputs": [],
   "source": [
    "class BankAccount:\n",
    "    def __init__(self, balance):\n",
    "        self.__balance = balance\n",
    "\n",
    "    def deposit(self, amount):\n",
    "        self.__balance += amount\n",
    "\n",
    "    def get_balance(self):\n",
    "        return self.__balance"
   ]
  },
  {
   "cell_type": "code",
   "execution_count": 33,
   "id": "fe2720e0",
   "metadata": {},
   "outputs": [
    {
     "name": "stdout",
     "output_type": "stream",
     "text": [
      "1500\n"
     ]
    }
   ],
   "source": [
    "acct = BankAccount(1000)\n",
    "acct.deposit(500)\n",
    "print(acct.get_balance())"
   ]
  },
  {
   "cell_type": "code",
   "execution_count": 34,
   "id": "395e2d09",
   "metadata": {},
   "outputs": [],
   "source": [
    "from abc import ABC, abstractmethod\n",
    "\n",
    "class Shape(ABC):\n",
    "    @abstractmethod\n",
    "    def area(self):\n",
    "        pass"
   ]
  },
  {
   "cell_type": "code",
   "execution_count": 35,
   "id": "df18ff34",
   "metadata": {},
   "outputs": [],
   "source": [
    "class Square(Shape):\n",
    "    def __init__(self, side):\n",
    "        self.side = side\n",
    "    def area(self):\n",
    "        return self.side * self.side"
   ]
  },
  {
   "cell_type": "code",
   "execution_count": 36,
   "id": "4157d7df",
   "metadata": {},
   "outputs": [
    {
     "name": "stdout",
     "output_type": "stream",
     "text": [
      "16\n"
     ]
    }
   ],
   "source": [
    "sq = Square(4)\n",
    "print(sq.area())"
   ]
  },
  {
   "cell_type": "code",
   "execution_count": 37,
   "id": "33d6537c",
   "metadata": {},
   "outputs": [],
   "source": [
    "class Logger:\n",
    "    def log(self, msg):\n",
    "        print(f\"LOG: {msg}\")\n",
    "\n",
    "class Transaction(Account, Logger):\n",
    "    pass"
   ]
  },
  {
   "cell_type": "code",
   "execution_count": 38,
   "id": "f421afa3",
   "metadata": {},
   "outputs": [
    {
     "name": "stdout",
     "output_type": "stream",
     "text": [
      "LOG: Rate updated.\n"
     ]
    }
   ],
   "source": [
    "t = Transaction()\n",
    "t.set_rate(0.06)\n",
    "t.log(\"Rate updated.\")"
   ]
  },
  {
   "cell_type": "code",
   "execution_count": 39,
   "id": "d0f9dca5",
   "metadata": {},
   "outputs": [],
   "source": [
    "class Vector:\n",
    "    def __init__(self, x, y):\n",
    "        self.x = x\n",
    "        self.y = y\n",
    "\n",
    "    def __add__(self, other):\n",
    "        return Vector(self.x + other.x, self.y + other.y)"
   ]
  },
  {
   "cell_type": "code",
   "execution_count": 40,
   "id": "ffa55f42",
   "metadata": {},
   "outputs": [
    {
     "name": "stdout",
     "output_type": "stream",
     "text": [
      "4 6\n"
     ]
    }
   ],
   "source": [
    "v1 = Vector(1, 2)\n",
    "v2 = Vector(3, 4)\n",
    "v3 = v1 + v2\n",
    "print(v3.x, v3.y)"
   ]
  },
  {
   "cell_type": "code",
   "execution_count": 41,
   "id": "314d5fd5",
   "metadata": {},
   "outputs": [],
   "source": [
    "class Counter:\n",
    "    count = 0\n",
    "\n",
    "    def __init__(self):\n",
    "        Counter.count += 1"
   ]
  },
  {
   "cell_type": "code",
   "execution_count": 42,
   "id": "07b16ec3",
   "metadata": {},
   "outputs": [
    {
     "name": "stdout",
     "output_type": "stream",
     "text": [
      "2\n"
     ]
    }
   ],
   "source": [
    "c1 = Counter()\n",
    "c2 = Counter()\n",
    "print(Counter.count)"
   ]
  },
  {
   "cell_type": "code",
   "execution_count": 43,
   "id": "59969178",
   "metadata": {},
   "outputs": [],
   "source": [
    "class Builder:\n",
    "    def step1(self):\n",
    "        print(\"Step 1\")\n",
    "        return self\n",
    "\n",
    "    def step2(self):\n",
    "        print(\"Step 2\")\n",
    "        return self"
   ]
  },
  {
   "cell_type": "code",
   "execution_count": 44,
   "id": "1c20eb9d",
   "metadata": {},
   "outputs": [
    {
     "name": "stdout",
     "output_type": "stream",
     "text": [
      "Step 1\n",
      "Step 2\n"
     ]
    }
   ],
   "source": [
    "bld = Builder().step1().step2()"
   ]
  },
  {
   "cell_type": "code",
   "execution_count": 45,
   "id": "80211183",
   "metadata": {},
   "outputs": [],
   "source": [
    "class Greet:\n",
    "    def hello(self, name=\"Guest\"):\n",
    "        print(f\"Hello, {name}\")"
   ]
  },
  {
   "cell_type": "code",
   "execution_count": 46,
   "id": "410ef6f6",
   "metadata": {},
   "outputs": [
    {
     "name": "stdout",
     "output_type": "stream",
     "text": [
      "Hello, Guest\n",
      "Hello, Alice\n"
     ]
    }
   ],
   "source": [
    "g = Greet()\n",
    "g.hello()\n",
    "g.hello(\"Alice\")"
   ]
  },
  {
   "cell_type": "code",
   "execution_count": 47,
   "id": "97efa226",
   "metadata": {},
   "outputs": [],
   "source": [
    "class InvalidAge(Exception):\n",
    "    pass"
   ]
  },
  {
   "cell_type": "code",
   "execution_count": 48,
   "id": "cac4bf4a",
   "metadata": {},
   "outputs": [],
   "source": [
    "def check_age(age):\n",
    "    if age < 0:\n",
    "        raise InvalidAge(\"Age cannot be negative\")"
   ]
  },
  {
   "cell_type": "code",
   "execution_count": 49,
   "id": "4f52c270",
   "metadata": {},
   "outputs": [],
   "source": [
    "check_age(10)"
   ]
  },
  {
   "cell_type": "code",
   "execution_count": 50,
   "id": "9c3f6fbf",
   "metadata": {},
   "outputs": [
    {
     "name": "stdout",
     "output_type": "stream",
     "text": [
      "True\n"
     ]
    }
   ],
   "source": [
    "print(isinstance(p1, Person))"
   ]
  },
  {
   "cell_type": "code",
   "execution_count": 51,
   "id": "6a3c9fd1",
   "metadata": {},
   "outputs": [
    {
     "name": "stdout",
     "output_type": "stream",
     "text": [
      "True\n"
     ]
    }
   ],
   "source": [
    "print(hasattr(p1, \"age\"))"
   ]
  },
  {
   "cell_type": "code",
   "execution_count": null,
   "id": "41957fec",
   "metadata": {},
   "outputs": [],
   "source": []
  }
 ],
 "metadata": {
  "kernelspec": {
   "display_name": "Python 3",
   "language": "python",
   "name": "python3"
  },
  "language_info": {
   "codemirror_mode": {
    "name": "ipython",
    "version": 3
   },
   "file_extension": ".py",
   "mimetype": "text/x-python",
   "name": "python",
   "nbconvert_exporter": "python",
   "pygments_lexer": "ipython3",
   "version": "3.12.6"
  }
 },
 "nbformat": 4,
 "nbformat_minor": 5
}
