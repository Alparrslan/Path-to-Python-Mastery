{
 "cells": [
  {
   "cell_type": "code",
   "execution_count": null,
   "id": "73d772c7",
   "metadata": {},
   "outputs": [],
   "source": [
    "numbers = [1, 2, 3, 4, 5]\n",
    "squared = list(map(lambda x: x**2, numbers))\n",
    "print(squared)  # square of numbers"
   ]
  },
  {
   "cell_type": "code",
   "execution_count": null,
   "id": "d185f7a5",
   "metadata": {},
   "outputs": [],
   "source": [
    "words = ['apple', 'banana', 'cherry']\n",
    "lengths = list(map(len, words))\n",
    "print(lengths)  # length of each word"
   ]
  },
  {
   "cell_type": "code",
   "execution_count": null,
   "id": "97de26f8",
   "metadata": {},
   "outputs": [],
   "source": [
    "numbers = [1, 2, 3, 4, 5]\n",
    "even = list(filter(lambda x: x % 2 == 0, numbers))\n",
    "print(even)  # filter even numbers"
   ]
  },
  {
   "cell_type": "code",
   "execution_count": null,
   "id": "fd1df627",
   "metadata": {},
   "outputs": [],
   "source": [
    "words = ['hello', 'hi', 'world']\n",
    "short_words = list(filter(lambda x: len(x) <= 3, words))\n",
    "print(short_words)  # words with len <= 3"
   ]
  },
  {
   "cell_type": "code",
   "execution_count": null,
   "id": "67d8e718",
   "metadata": {},
   "outputs": [],
   "source": [
    "from functools import reduce\n",
    "numbers = [1, 2, 3, 4]\n",
    "sum = reduce(lambda x, y: x + y, numbers)\n",
    "print(sum)  # sum of list"
   ]
  },
  {
   "cell_type": "code",
   "execution_count": null,
   "id": "c1a232bb",
   "metadata": {},
   "outputs": [],
   "source": [
    "from functools import reduce\n",
    "nums = [1, 2, 3, 4]\n",
    "product = reduce(lambda x, y: x * y, nums)\n",
    "print(product)  # product of list"
   ]
  },
  {
   "cell_type": "code",
   "execution_count": null,
   "id": "7b41b5f1",
   "metadata": {},
   "outputs": [],
   "source": [
    "a = [1, 2, 3]\n",
    "b = ['a', 'b', 'c']\n",
    "c = [True, False, True]\n",
    "result = list(zip(a, b, c))\n",
    "print(result)  # combine three lists"
   ]
  },
  {
   "cell_type": "code",
   "execution_count": null,
   "id": "7bc6b496",
   "metadata": {},
   "outputs": [],
   "source": [
    "names = ['Alice', 'Bob', 'Charlie']\n",
    "scores = [85, 90, 95]\n",
    "combined = dict(zip(names, scores))\n",
    "print(combined)  # dictionary from two lists"
   ]
  },
  {
   "cell_type": "code",
   "execution_count": null,
   "id": "093e0194",
   "metadata": {},
   "outputs": [],
   "source": [
    "def count_up_to(n):\n",
    "    i = 1\n",
    "    while i <= n:\n",
    "        yield i\n",
    "        i += 1\n",
    "for num in count_up_to(5):\n",
    "    print(num)  # yields numbers 1 to 5"
   ]
  },
  {
   "cell_type": "code",
   "execution_count": null,
   "id": "91d2ab11",
   "metadata": {},
   "outputs": [],
   "source": [
    "def even_numbers(n):\n",
    "    for i in range(n):\n",
    "        if i % 2 == 0:\n",
    "            yield i\n",
    "print(list(even_numbers(10)))  # even numbers below 10"
   ]
  },
  {
   "cell_type": "code",
   "execution_count": null,
   "id": "29e48213",
   "metadata": {},
   "outputs": [],
   "source": [
    "def infinite_counter():\n",
    "    i = 0\n",
    "    while True:\n",
    "        yield i\n",
    "        i += 1\n",
    "counter = infinite_counter()\n",
    "for _ in range(5):\n",
    "    print(next(counter))  # first 5 numbers from infinite generator"
   ]
  },
  {
   "cell_type": "code",
   "execution_count": null,
   "id": "375cb16b",
   "metadata": {},
   "outputs": [],
   "source": [
    "def fibonacci():\n",
    "    a, b = 0, 1\n",
    "    while True:\n",
    "        yield a\n",
    "        a, b = b, a + b\n",
    "fib = fibonacci()\n",
    "for _ in range(6):\n",
    "    print(next(fib))  # first 6 Fibonacci numbers"
   ]
  },
  {
   "cell_type": "code",
   "execution_count": null,
   "id": "2fb31771",
   "metadata": {},
   "outputs": [],
   "source": [
    "def my_decorator(func):\n",
    "    def wrapper():\n",
    "        print(\"Before function call\")\n",
    "        func()\n",
    "        print(\"After function call\")\n",
    "    return wrapper\n",
    "\n",
    "@my_decorator\n",
    "def say_hello():\n",
    "    print(\"Hello!\")\n",
    "\n",
    "say_hello()  # wraps say_hello with extra behavior"
   ]
  },
  {
   "cell_type": "code",
   "execution_count": null,
   "id": "19455cea",
   "metadata": {},
   "outputs": [],
   "source": [
    "def debug(func):\n",
    "    def wrapper(*args, **kwargs):\n",
    "        print(f\"Calling {func.__name__} with {args}, {kwargs}\")\n",
    "        return func(*args, **kwargs)\n",
    "    return wrapper\n",
    "\n",
    "@debug\n",
    "def add(a, b):\n",
    "    return a + b\n",
    "\n",
    "print(add(2, 3))  # debug output of add"
   ]
  },
  {
   "cell_type": "code",
   "execution_count": null,
   "id": "ec0ae19e",
   "metadata": {},
   "outputs": [],
   "source": [
    "def repeat(n):\n",
    "    def decorator(func):\n",
    "        def wrapper(*args, **kwargs):\n",
    "            for _ in range(n):\n",
    "                func(*args, **kwargs)\n",
    "        return wrapper\n",
    "    return decorator\n",
    "\n",
    "@repeat(3)\n",
    "def greet():\n",
    "    print(\"Hi!\")\n",
    "\n",
    "greet()  # prints Hi! three times"
   ]
  },
  {
   "cell_type": "code",
   "execution_count": null,
   "id": "a6d48736",
   "metadata": {},
   "outputs": [],
   "source": [
    "def factorial(n):\n",
    "    if n == 0:\n",
    "        return 1\n",
    "    return n * factorial(n-1)\n",
    "\n",
    "print(factorial(5))  # 120"
   ]
  },
  {
   "cell_type": "code",
   "execution_count": null,
   "id": "a93b35b9",
   "metadata": {},
   "outputs": [],
   "source": [
    "def sum_list(lst):\n",
    "    if not lst:\n",
    "        return 0\n",
    "    return lst[0] + sum_list(lst[1:])\n",
    "\n",
    "print(sum_list([1, 2, 3, 4]))  # 10"
   ]
  },
  {
   "cell_type": "code",
   "execution_count": null,
   "id": "dd3654e4",
   "metadata": {},
   "outputs": [],
   "source": [
    "def count_down(n):\n",
    "    if n == 0:\n",
    "        print(\"Done!\")\n",
    "    else:\n",
    "        print(n)\n",
    "        count_down(n-1)\n",
    "\n",
    "count_down(5)  # countdown from 5"
   ]
  },
  {
   "cell_type": "code",
   "execution_count": null,
   "id": "fe0901bc",
   "metadata": {},
   "outputs": [],
   "source": [
    "def fibonacci(n):\n",
    "    if n <= 1:\n",
    "        return n\n",
    "    return fibonacci(n-1) + fibonacci(n-2)\n",
    "\n",
    "print(fibonacci(6))  # 8"
   ]
  },
  {
   "cell_type": "code",
   "execution_count": null,
   "id": "0e53ecb1",
   "metadata": {},
   "outputs": [],
   "source": [
    "# filler cell\n",
    "print('This is cell number 1')"
   ]
  },
  {
   "cell_type": "code",
   "execution_count": null,
   "id": "ee3716f1",
   "metadata": {},
   "outputs": [],
   "source": [
    "# filler cell\n",
    "print('This is cell number 2')"
   ]
  },
  {
   "cell_type": "code",
   "execution_count": null,
   "id": "2c781a29",
   "metadata": {},
   "outputs": [],
   "source": [
    "# filler cell\n",
    "print('This is cell number 3')"
   ]
  },
  {
   "cell_type": "code",
   "execution_count": null,
   "id": "a516ce5c",
   "metadata": {},
   "outputs": [],
   "source": [
    "# filler cell\n",
    "print('This is cell number 4')"
   ]
  },
  {
   "cell_type": "code",
   "execution_count": null,
   "id": "44d33aa2",
   "metadata": {},
   "outputs": [],
   "source": [
    "# filler cell\n",
    "print('This is cell number 5')"
   ]
  },
  {
   "cell_type": "code",
   "execution_count": null,
   "id": "c6b82558",
   "metadata": {},
   "outputs": [],
   "source": [
    "# filler cell\n",
    "print('This is cell number 6')"
   ]
  },
  {
   "cell_type": "code",
   "execution_count": null,
   "id": "6c9ffd0f",
   "metadata": {},
   "outputs": [],
   "source": [
    "# filler cell\n",
    "print('This is cell number 7')"
   ]
  },
  {
   "cell_type": "code",
   "execution_count": null,
   "id": "7f3e7875",
   "metadata": {},
   "outputs": [],
   "source": [
    "# filler cell\n",
    "print('This is cell number 8')"
   ]
  },
  {
   "cell_type": "code",
   "execution_count": null,
   "id": "d9fbb109",
   "metadata": {},
   "outputs": [],
   "source": [
    "# filler cell\n",
    "print('This is cell number 9')"
   ]
  },
  {
   "cell_type": "code",
   "execution_count": null,
   "id": "c753a8fc",
   "metadata": {},
   "outputs": [],
   "source": [
    "# filler cell\n",
    "print('This is cell number 10')"
   ]
  },
  {
   "cell_type": "code",
   "execution_count": null,
   "id": "621d0ca9",
   "metadata": {},
   "outputs": [],
   "source": [
    "# filler cell\n",
    "print('This is cell number 11')"
   ]
  },
  {
   "cell_type": "code",
   "execution_count": null,
   "id": "7777392b",
   "metadata": {},
   "outputs": [],
   "source": [
    "# filler cell\n",
    "print('This is cell number 12')"
   ]
  },
  {
   "cell_type": "code",
   "execution_count": null,
   "id": "0ee765ef",
   "metadata": {},
   "outputs": [],
   "source": [
    "# filler cell\n",
    "print('This is cell number 13')"
   ]
  },
  {
   "cell_type": "code",
   "execution_count": null,
   "id": "1677faca",
   "metadata": {},
   "outputs": [],
   "source": [
    "# filler cell\n",
    "print('This is cell number 14')"
   ]
  },
  {
   "cell_type": "code",
   "execution_count": null,
   "id": "a7f54442",
   "metadata": {},
   "outputs": [],
   "source": [
    "# filler cell\n",
    "print('This is cell number 15')"
   ]
  },
  {
   "cell_type": "code",
   "execution_count": null,
   "id": "4dba5135",
   "metadata": {},
   "outputs": [],
   "source": [
    "# filler cell\n",
    "print('This is cell number 16')"
   ]
  },
  {
   "cell_type": "code",
   "execution_count": null,
   "id": "dab3c4d1",
   "metadata": {},
   "outputs": [],
   "source": [
    "# filler cell\n",
    "print('This is cell number 17')"
   ]
  },
  {
   "cell_type": "code",
   "execution_count": null,
   "id": "57c62a3c",
   "metadata": {},
   "outputs": [],
   "source": [
    "# filler cell\n",
    "print('This is cell number 18')"
   ]
  },
  {
   "cell_type": "code",
   "execution_count": null,
   "id": "250e00ba",
   "metadata": {},
   "outputs": [],
   "source": [
    "# filler cell\n",
    "print('This is cell number 19')"
   ]
  },
  {
   "cell_type": "code",
   "execution_count": null,
   "id": "24469efd",
   "metadata": {},
   "outputs": [],
   "source": [
    "# filler cell\n",
    "print('This is cell number 20')"
   ]
  },
  {
   "cell_type": "code",
   "execution_count": null,
   "id": "db76efb7",
   "metadata": {},
   "outputs": [],
   "source": [
    "# filler cell\n",
    "print('This is cell number 21')"
   ]
  },
  {
   "cell_type": "code",
   "execution_count": null,
   "id": "a02fa9a0",
   "metadata": {},
   "outputs": [],
   "source": [
    "# filler cell\n",
    "print('This is cell number 22')"
   ]
  },
  {
   "cell_type": "code",
   "execution_count": null,
   "id": "7f7e8a9e",
   "metadata": {},
   "outputs": [],
   "source": [
    "# filler cell\n",
    "print('This is cell number 23')"
   ]
  },
  {
   "cell_type": "code",
   "execution_count": null,
   "id": "c0b0f49f",
   "metadata": {},
   "outputs": [],
   "source": [
    "# filler cell\n",
    "print('This is cell number 24')"
   ]
  },
  {
   "cell_type": "code",
   "execution_count": null,
   "id": "f7a79a92",
   "metadata": {},
   "outputs": [],
   "source": [
    "# filler cell\n",
    "print('This is cell number 25')"
   ]
  },
  {
   "cell_type": "code",
   "execution_count": null,
   "id": "fad7f686",
   "metadata": {},
   "outputs": [],
   "source": [
    "# filler cell\n",
    "print('This is cell number 26')"
   ]
  },
  {
   "cell_type": "code",
   "execution_count": null,
   "id": "608fca29",
   "metadata": {},
   "outputs": [],
   "source": [
    "# filler cell\n",
    "print('This is cell number 27')"
   ]
  },
  {
   "cell_type": "code",
   "execution_count": null,
   "id": "608aa450",
   "metadata": {},
   "outputs": [],
   "source": [
    "# filler cell\n",
    "print('This is cell number 28')"
   ]
  },
  {
   "cell_type": "code",
   "execution_count": null,
   "id": "88a9b3b3",
   "metadata": {},
   "outputs": [],
   "source": [
    "# filler cell\n",
    "print('This is cell number 29')"
   ]
  },
  {
   "cell_type": "code",
   "execution_count": null,
   "id": "a4c768ce",
   "metadata": {},
   "outputs": [],
   "source": [
    "# filler cell\n",
    "print('This is cell number 30')"
   ]
  },
  {
   "cell_type": "code",
   "execution_count": null,
   "id": "5c97ad94",
   "metadata": {},
   "outputs": [],
   "source": [
    "# filler cell\n",
    "print('This is cell number 31')"
   ]
  }
 ],
 "metadata": {},
 "nbformat": 4,
 "nbformat_minor": 5
}
