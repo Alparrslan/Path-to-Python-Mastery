{
 "cells": [
  {
   "cell_type": "markdown",
   "id": "5004cfd1",
   "metadata": {},
   "source": [
    "## This script demonstrates professional-level Python file operations"
   ]
  },
  {
   "cell_type": "code",
   "execution_count": null,
   "id": "262999c8",
   "metadata": {},
   "outputs": [],
   "source": [
    "# 1. Basic file write with open()\n",
    "file = open(\"sample1.txt\", \"w\")\n",
    "file.write(\"Hello, this is line 1.\\n\")\n",
    "file.write(\"This is line 2.\")\n",
    "file.close()"
   ]
  },
  {
   "cell_type": "code",
   "execution_count": null,
   "id": "c6890819",
   "metadata": {},
   "outputs": [],
   "source": [
    "# 2. Read file with open()\n",
    "file = open(\"sample1.txt\", \"r\")\n",
    "content = file.read()\n",
    "print(content)\n",
    "file.close()\n"
   ]
  },
  {
   "cell_type": "code",
   "execution_count": null,
   "id": "70019c84",
   "metadata": {},
   "outputs": [],
   "source": [
    "# 3. Use with-statement (recommended)\n",
    "with open(\"sample2.txt\", \"w\") as file:\n",
    "    file.write(\"Using with statement.\\n\")\n",
    "    file.write(\"Auto-closes the file.\")\n"
   ]
  },
  {
   "cell_type": "code",
   "execution_count": null,
   "id": "87441e91",
   "metadata": {},
   "outputs": [],
   "source": [
    "# 4. Read lines as a list\n",
    "with open(\"sample2.txt\", \"r\") as file:\n",
    "    lines = file.readlines()\n",
    "    print(lines)"
   ]
  },
  {
   "cell_type": "code",
   "execution_count": null,
   "id": "d40da3d5",
   "metadata": {},
   "outputs": [],
   "source": [
    "# 5. Append to a file\n",
    "with open(\"sample2.txt\", \"a\") as file:\n",
    "    file.write(\"\\nAppended line.\")\n"
   ]
  },
  {
   "cell_type": "code",
   "execution_count": null,
   "id": "c8b7b353",
   "metadata": {},
   "outputs": [],
   "source": [
    "# 6. Verify appended content\n",
    "with open(\"sample2.txt\", \"r\") as file:\n",
    "    print(file.read())"
   ]
  },
  {
   "cell_type": "code",
   "execution_count": null,
   "id": "4a85efdc",
   "metadata": {},
   "outputs": [],
   "source": [
    "# 7. Writing list of strings to a file\n",
    "lines_to_write = [\"Line A\\n\", \"Line B\\n\", \"Line C\\n\"]\n",
    "with open(\"sample3.txt\", \"w\") as file:\n",
    "    file.writelines(lines_to_write)"
   ]
  },
  {
   "cell_type": "code",
   "execution_count": null,
   "id": "056c63a3",
   "metadata": {},
   "outputs": [],
   "source": [
    "# 8. Reading line by line in a loop\n",
    "with open(\"sample3.txt\", \"r\") as file:\n",
    "    for line in file:\n",
    "        print(line.strip())"
   ]
  },
  {
   "cell_type": "code",
   "execution_count": null,
   "id": "24cc3a2e",
   "metadata": {},
   "outputs": [],
   "source": [
    "# 9. Create CSV file\n",
    "import csv\n",
    "with open(\"data.csv\", \"w\", newline=\"\") as csvfile:\n",
    "    writer = csv.writer(csvfile)\n",
    "    writer.writerow([\"Name\", \"Age\", \"City\"])\n",
    "    writer.writerow([\"Alice\", 30, \"New York\"])\n",
    "    writer.writerow([\"Bob\", 25, \"Paris\"])\n",
    "    writer.writerow([\"Charlie\", 35, \"Tokyo\"])"
   ]
  },
  {
   "cell_type": "code",
   "execution_count": null,
   "id": "921501d8",
   "metadata": {},
   "outputs": [],
   "source": [
    "# 10. Read CSV file\n",
    "with open(\"data.csv\", \"r\") as csvfile:\n",
    "    reader = csv.reader(csvfile)\n",
    "    for row in reader:\n",
    "        print(row)"
   ]
  },
  {
   "cell_type": "code",
   "execution_count": null,
   "id": "a486a5d2",
   "metadata": {},
   "outputs": [],
   "source": [
    "# 11. Skip header\n",
    "with open(\"data.csv\", \"r\") as csvfile:\n",
    "    reader = csv.reader(csvfile)\n",
    "    next(reader)  # Skip header\n",
    "    for row in reader:\n",
    "        print(f\"{row[0]} is from {row[2]}.\")"
   ]
  },
  {
   "cell_type": "code",
   "execution_count": null,
   "id": "c4ce74b4",
   "metadata": {},
   "outputs": [],
   "source": [
    "# 12. Write CSV using DictWriter\n",
    "with open(\"dict_data.csv\", \"w\", newline=\"\") as csvfile:\n",
    "    fieldnames = [\"ID\", \"Product\", \"Price\"]\n",
    "    writer = csv.DictWriter(csvfile, fieldnames=fieldnames)\n",
    "    writer.writeheader()\n",
    "    writer.writerow({\"ID\": 101, \"Product\": \"Keyboard\", \"Price\": 29.99})\n",
    "    writer.writerow({\"ID\": 102, \"Product\": \"Mouse\", \"Price\": 19.99})"
   ]
  },
  {
   "cell_type": "code",
   "execution_count": null,
   "id": "41d3f0c2",
   "metadata": {},
   "outputs": [],
   "source": [
    "# 13. Read CSV using DictReader\n",
    "with open(\"dict_data.csv\", \"r\") as csvfile:\n",
    "    reader = csv.DictReader(csvfile)\n",
    "    for row in reader:\n",
    "        print(row[\"Product\"], row[\"Price\"])"
   ]
  },
  {
   "cell_type": "code",
   "execution_count": null,
   "id": "e98cacf7",
   "metadata": {},
   "outputs": [],
   "source": [
    "# 14. Check if file exists before opening\n",
    "import os\n",
    "if os.path.exists(\"sample1.txt\"):\n",
    "    with open(\"sample1.txt\", \"r\") as file:\n",
    "        print(file.read())\n",
    "else:\n",
    "         print(\"File does not exist.\")"
   ]
  },
  {
   "cell_type": "code",
   "execution_count": null,
   "id": "561e5bd1",
   "metadata": {},
   "outputs": [],
   "source": [
    "# 15. Try-except block while reading\n",
    "try:\n",
    "    with open(\"notfound.txt\", \"r\") as file:\n",
    "        print(file.read())\n",
    "except FileNotFoundError:\n",
    "    print(\"File not found.\")"
   ]
  },
  {
   "cell_type": "code",
   "execution_count": null,
   "id": "eb01dfd3",
   "metadata": {},
   "outputs": [],
   "source": [
    "# 16. Overwrite existing file\n",
    "with open(\"overwrite.txt\", \"w\") as file:\n",
    "    file.write(\"This file was overwritten.\")"
   ]
  },
  {
   "cell_type": "code",
   "execution_count": null,
   "id": "f7dafd43",
   "metadata": {},
   "outputs": [],
   "source": [
    "# 17. Append multiple lines\n",
    "more_lines = [\"\\nExtra 1\", \"\\nExtra 2\"]\n",
    "with open(\"overwrite.txt\", \"a\") as file:\n",
    "    file.writelines(more_lines)"
   ]
  },
  {
   "cell_type": "code",
   "execution_count": null,
   "id": "0ae3d02b",
   "metadata": {},
   "outputs": [],
   "source": [
    "# 18. Strip newline characters while reading\n",
    "with open(\"overwrite.txt\", \"r\") as file:\n",
    "    stripped_lines = [line.strip() for line in file]\n",
    "    print(stripped_lines)"
   ]
  },
  {
   "cell_type": "code",
   "execution_count": null,
   "id": "c9709568",
   "metadata": {},
   "outputs": [],
   "source": [
    "# 19. Count lines in a file\n",
    "with open(\"overwrite.txt\", \"r\") as file:\n",
    "    line_count = sum(1 for _ in file)\n",
    "print(\"Number of lines:\", line_count)"
   ]
  },
  {
   "cell_type": "code",
   "execution_count": null,
   "id": "62d4c42a",
   "metadata": {},
   "outputs": [],
   "source": [
    "# 20. Read entire file content at once\n",
    "with open(\"data.csv\", \"r\") as file:\n",
    "    full_content = file.read()\n",
    "print(full_content)"
   ]
  },
  {
   "cell_type": "code",
   "execution_count": null,
   "id": "ac02da59",
   "metadata": {},
   "outputs": [],
   "source": [
    "# 21. Check file size\n",
    "print(\"Size of data.csv:\", os.path.getsize(\"data.csv\"), \"bytes\")"
   ]
  },
  {
   "cell_type": "code",
   "execution_count": null,
   "id": "5b9b1983",
   "metadata": {},
   "outputs": [],
   "source": [
    "# 22. Rename a file\n",
    "os.rename(\"sample3.txt\", \"renamed_sample3.txt\")"
   ]
  },
  {
   "cell_type": "code",
   "execution_count": null,
   "id": "a4ca2057",
   "metadata": {},
   "outputs": [],
   "source": [
    "# 23. Delete a file\n",
    "if os.path.exists(\"sample2.txt\"):\n",
    "    os.remove(\"sample2.txt\")"
   ]
  },
  {
   "cell_type": "code",
   "execution_count": null,
   "id": "ed10ece4",
   "metadata": {},
   "outputs": [],
   "source": [
    "# 24. Create file if it doesn’t exist\n",
    "if not os.path.exists(\"newfile.txt\"):\n",
    "    open(\"newfile.txt\", \"w\").close()"
   ]
  },
  {
   "cell_type": "code",
   "execution_count": null,
   "id": "a4b10e0c",
   "metadata": {},
   "outputs": [],
   "source": [
    "# 25. Combine two files into a third\n",
    "with open(\"sample1.txt\", \"r\") as f1, open(\"overwrite.txt\", \"r\") as f2:\n",
    "    content = f1.read() + \"\\n\" + f2.read()\n",
    "with open(\"combined.txt\", \"w\") as fout:\n",
    "    fout.write(content)"
   ]
  },
  {
   "cell_type": "code",
   "execution_count": null,
   "id": "bdaa048b",
   "metadata": {},
   "outputs": [],
   "source": [
    "# 26. Read specific number of bytes\n",
    "with open(\"combined.txt\", \"r\") as file:\n",
    "    print(file.read(10))  # Read first 10 characters"
   ]
  },
  {
   "cell_type": "code",
   "execution_count": null,
   "id": "4ccd49c0",
   "metadata": {},
   "outputs": [],
   "source": [
    "# 27. Seek to a position in file\n",
    "with open(\"combined.txt\", \"r\") as file:\n",
    "    file.seek(5)\n",
    "    print(file.read(10))"
   ]
  },
  {
   "cell_type": "code",
   "execution_count": null,
   "id": "fc0d10f8",
   "metadata": {},
   "outputs": [],
   "source": [
    "# 28. Read file in chunks\n",
    "with open(\"combined.txt\", \"r\") as file:\n",
    "    while True:\n",
    "        chunk = file.read(5)\n",
    "        if not chunk:\n",
    "            break\n",
    "        print(chunk)"
   ]
  },
  {
   "cell_type": "code",
   "execution_count": null,
   "id": "f2423bb7",
   "metadata": {},
   "outputs": [],
   "source": [
    "# 29. Read binary file\n",
    "with open(\"data.csv\", \"rb\") as file:\n",
    "    binary_data = file.read(20)\n",
    "    print(binary_data)"
   ]
  },
  {
   "cell_type": "code",
   "execution_count": null,
   "id": "bbd21f0a",
   "metadata": {},
   "outputs": [],
   "source": [
    "# 30. Write binary file\n",
    "with open(\"binary.dat\", \"wb\") as file:\n",
    "    file.write(b\"Binary content\")"
   ]
  },
  {
   "cell_type": "code",
   "execution_count": null,
   "id": "f9be6c86",
   "metadata": {},
   "outputs": [],
   "source": [
    "# 31. Use pathlib for file operations\n",
    "from pathlib import Path\n",
    "p = Path(\"sample1.txt\")\n",
    "print(\"Exists:\", p.exists())\n",
    "print(\"Absolute path:\", p.resolve())"
   ]
  },
  {
   "cell_type": "code",
   "execution_count": null,
   "id": "6ce1829a",
   "metadata": {},
   "outputs": [],
   "source": [
    "# 32. List all .txt files\n",
    "txt_files = list(Path(\".\").glob(\"*.txt\"))\n",
    "print([f.name for f in txt_files])"
   ]
  },
  {
   "cell_type": "code",
   "execution_count": null,
   "id": "9771e9eb",
   "metadata": {},
   "outputs": [],
   "source": [
    "# 33. Read CSV into list of dicts\n",
    "with open(\"data.csv\", \"r\") as file:\n",
    "    reader = csv.DictReader(file)\n",
    "    data_list = list(reader)\n",
    "    print(data_list)"
   ]
  },
  {
   "cell_type": "code",
   "execution_count": null,
   "id": "e5a3cdcb",
   "metadata": {},
   "outputs": [],
   "source": [
    "# 34. Modify and rewrite CSV\n",
    "for row in data_list:\n",
    "    row[\"Age\"] = str(int(row[\"Age\"]) + 1)\n",
    "\n",
    "with open(\"updated_data.csv\", \"w\", newline=\"\") as file:\n",
    "    writer = csv.DictWriter(file, fieldnames=[\"Name\", \"Age\", \"City\"])\n",
    "    writer.writeheader()\n",
    "    writer.writerows(data_list)"
   ]
  },
  {
   "cell_type": "code",
   "execution_count": null,
   "id": "5808e046",
   "metadata": {},
   "outputs": [],
   "source": [
    "# 35. Sort CSV rows by age\n",
    "sorted_rows = sorted(data_list, key=lambda x: int(x[\"Age\"]))\n",
    "for row in sorted_rows:\n",
    "    print(row)"
   ]
  },
  {
   "cell_type": "code",
   "execution_count": null,
   "id": "343bec6c",
   "metadata": {},
   "outputs": [],
   "source": [
    "# 36. Search for a name in CSV\n",
    "search_name = \"Alice\"\n",
    "for row in data_list:\n",
    "    if row[\"Name\"] == search_name:\n",
    "        print(\"Found:\", row)"
   ]
  },
  {
   "cell_type": "code",
   "execution_count": null,
   "id": "59f25b4b",
   "metadata": {},
   "outputs": [],
   "source": [
    "# 37. Filter rows where age > 30\n",
    "older_than_30 = [row for row in data_list if int(row[\"Age\"]) > 30]\n",
    "print(older_than_30)"
   ]
  },
  {
   "cell_type": "code",
   "execution_count": null,
   "id": "0b7fa932",
   "metadata": {},
   "outputs": [],
   "source": [
    "# 38. Read and write UTF-8 content\n",
    "with open(\"utf8.txt\", \"w\", encoding=\"utf-8\") as file:\n",
    "    file.write(\"Çalışıyoruz! 🚀\")\n",
    "\n",
    "with open(\"utf8.txt\", \"r\", encoding=\"utf-8\") as file:\n",
    "    print(file.read())"
   ]
  },
  {
   "cell_type": "code",
   "execution_count": null,
   "id": "a366e95b",
   "metadata": {},
   "outputs": [],
   "source": [
    "# 39. CSV delimiter change (semicolon)\n",
    "with open(\"semi.csv\", \"w\", newline=\"\") as file:\n",
    "    writer = csv.writer(file, delimiter=';')\n",
    "    writer.writerow([\"A\", \"B\", \"C\"])\n",
    "    writer.writerow([1, 2, 3])"
   ]
  },
  {
   "cell_type": "code",
   "execution_count": null,
   "id": "8915d563",
   "metadata": {},
   "outputs": [],
   "source": [
    "# 40. Read semicolon CSV\n",
    "with open(\"semi.csv\", \"r\") as file:\n",
    "    reader = csv.reader(file, delimiter=';')\n",
    "    for row in reader:\n",
    "        print(row)"
   ]
  },
  {
   "cell_type": "code",
   "execution_count": null,
   "id": "1262a9cd",
   "metadata": {},
   "outputs": [],
   "source": [
    "# 41. Save multiline input\n",
    "lines = [\"first\\n\", \"second\\n\", \"third\"]\n",
    "with open(\"multiline.txt\", \"w\") as file:\n",
    "    file.writelines(lines)"
   ]
  },
  {
   "cell_type": "code",
   "execution_count": null,
   "id": "dc37590c",
   "metadata": {},
   "outputs": [],
   "source": [
    "# 42. Reverse file content\n",
    "with open(\"multiline.txt\", \"r\") as file:\n",
    "    reversed_content = file.readlines()[::-1]\n",
    "\n",
    "with open(\"reversed.txt\", \"w\") as file:\n",
    "    file.writelines(reversed_content)"
   ]
  },
  {
   "cell_type": "code",
   "execution_count": null,
   "id": "15fdd306",
   "metadata": {},
   "outputs": [],
   "source": [
    "# 43. Copy file manually\n",
    "with open(\"utf8.txt\", \"r\", encoding=\"utf-8\") as src, open(\"copy.txt\", \"w\", encoding=\"utf-8\") as dest:\n",
    "    dest.write(src.read())"
   ]
  },
  {
   "cell_type": "code",
   "execution_count": null,
   "id": "7adf48a9",
   "metadata": {},
   "outputs": [],
   "source": [
    "# 44. Count characters in a file\n",
    "with open(\"utf8.txt\", \"r\", encoding=\"utf-8\") as file:\n",
    "    print(\"Character count:\", len(file.read()))"
   ]
  },
  {
   "cell_type": "code",
   "execution_count": null,
   "id": "20cc04dc",
   "metadata": {},
   "outputs": [],
   "source": [
    "# 45. Check if file is empty\n",
    "if os.path.getsize(\"copy.txt\") == 0:\n",
    "    print(\"Empty\")\n",
    "else:\n",
    "    print(\"Not empty\")"
   ]
  },
  {
   "cell_type": "code",
   "execution_count": null,
   "id": "0286cc89",
   "metadata": {},
   "outputs": [],
   "source": [
    "# 46. Replace word in file\n",
    "with open(\"sample1.txt\", \"r+\") as file:\n",
    "    content = file.read().replace(\"line\", \"sentence\")\n",
    "    file.seek(0)\n",
    "    file.write(content)\n",
    "    file.truncate()"
   ]
  },
  {
   "cell_type": "code",
   "execution_count": null,
   "id": "ca4b06eb",
   "metadata": {},
   "outputs": [],
   "source": [
    "# 47. Split CSV rows into separate files\n",
    "with open(\"data.csv\", \"r\") as file:\n",
    "    reader = list(csv.reader(file))\n",
    "    header = reader[0]\n",
    "    rows = reader[1:]\n",
    "    for i, row in enumerate(rows):\n",
    "        with open(f\"row_{i+1}.csv\", \"w\", newline=\"\") as out:\n",
    "            writer = csv.writer(out)\n",
    "            writer.writerow(header)\n",
    "            writer.writerow(row)"
   ]
  },
  {
   "cell_type": "code",
   "execution_count": null,
   "id": "015f843b",
   "metadata": {},
   "outputs": [],
   "source": [
    "# 48. Create nested directory and file\n",
    "nested_path = Path(\"logs/2025\")\n",
    "nested_path.mkdir(parents=True, exist_ok=True)\n",
    "with open(nested_path / \"log.txt\", \"w\") as file:\n",
    "    file.write(\"Log entry.\")"
   ]
  },
  {
   "cell_type": "code",
   "execution_count": null,
   "id": "6c75b308",
   "metadata": {},
   "outputs": [],
   "source": [
    "# 49. List all files recursively\n",
    "all_files = list(Path(\".\").rglob(\"*.*\"))\n",
    "print(\"Total files:\", len(all_files))"
   ]
  },
  {
   "cell_type": "code",
   "execution_count": null,
   "id": "e647619b",
   "metadata": {},
   "outputs": [],
   "source": [
    "# 50. Cleanup demo files (optional cleanup step)\n",
    "cleanup_files = [\"sample1.txt\", \"data.csv\", \"dict_data.csv\", \"overwrite.txt\", \n",
    "                 \"combined.txt\", \"binary.dat\", \"utf8.txt\", \"semi.csv\", \n",
    "                 \"reversed.txt\", \"copy.txt\", \"multiline.txt\", \"updated_data.csv\", \"renamed_sample3.txt\"]\n",
    "for f in cleanup_files:\n",
    "    try:\n",
    "        os.remove(f)\n",
    "    except:\n",
    "        pass\n"
   ]
  }
 ],
 "metadata": {
  "kernelspec": {
   "display_name": "Python 3",
   "language": "python",
   "name": "python3"
  },
  "language_info": {
   "name": "python",
   "version": "3.12.6"
  }
 },
 "nbformat": 4,
 "nbformat_minor": 5
}
