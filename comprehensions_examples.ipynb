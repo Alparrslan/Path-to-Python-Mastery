{
 "cells": [
  {
   "cell_type": "markdown",
   "id": "b65946ff",
   "metadata": {},
   "source": [
    "# Comprehensions\n",
    "This notebook demonstrates professional yet educational examples of:\n",
    "- List Comprehension\n",
    "- Dict and Set Comprehension\n",
    "- Conditional Comprehension\n",
    "\n",
    "Each cell provides a unique, self-contained example. Key sections are commented in English for GitHub clarity."
   ]
  },
  {
   "cell_type": "code",
   "execution_count": null,
   "id": "ed910cd8",
   "metadata": {},
   "outputs": [],
   "source": [
    "# List Comprehension Example 1\n",
    "squares = [x**2 for x in range(2) if x % 2 == 0]  # Only even numbers"
   ]
  },
  {
   "cell_type": "code",
   "execution_count": null,
   "id": "d3efd033",
   "metadata": {},
   "outputs": [],
   "source": [
    "# List Comprehension Example 2\n",
    "squares = [x**2 for x in range(4) if x % 2 == 0]  # Only even numbers"
   ]
  },
  {
   "cell_type": "code",
   "execution_count": null,
   "id": "3f441a3c",
   "metadata": {},
   "outputs": [],
   "source": [
    "# List Comprehension Example 3\n",
    "squares = [x**2 for x in range(6) if x % 2 == 0]  # Only even numbers"
   ]
  },
  {
   "cell_type": "code",
   "execution_count": null,
   "id": "fc4eabff",
   "metadata": {},
   "outputs": [],
   "source": [
    "# List Comprehension Example 4\n",
    "squares = [x**2 for x in range(8) if x % 2 == 0]  # Only even numbers"
   ]
  },
  {
   "cell_type": "code",
   "execution_count": null,
   "id": "97a67dbb",
   "metadata": {},
   "outputs": [],
   "source": [
    "# List Comprehension Example 5\n",
    "squares = [x**2 for x in range(10) if x % 2 == 0]  # Only even numbers"
   ]
  },
  {
   "cell_type": "code",
   "execution_count": null,
   "id": "915cb042",
   "metadata": {},
   "outputs": [],
   "source": [
    "# List Comprehension Example 6\n",
    "squares = [x**2 for x in range(12) if x % 2 == 0]  # Only even numbers"
   ]
  },
  {
   "cell_type": "code",
   "execution_count": null,
   "id": "bb5117a4",
   "metadata": {},
   "outputs": [],
   "source": [
    "# List Comprehension Example 7\n",
    "squares = [x**2 for x in range(14) if x % 2 == 0]  # Only even numbers"
   ]
  },
  {
   "cell_type": "code",
   "execution_count": null,
   "id": "e7e12d89",
   "metadata": {},
   "outputs": [],
   "source": [
    "# List Comprehension Example 8\n",
    "squares = [x**2 for x in range(16) if x % 2 == 0]  # Only even numbers"
   ]
  },
  {
   "cell_type": "code",
   "execution_count": null,
   "id": "dc934dd3",
   "metadata": {},
   "outputs": [],
   "source": [
    "# List Comprehension Example 9\n",
    "squares = [x**2 for x in range(18) if x % 2 == 0]  # Only even numbers"
   ]
  },
  {
   "cell_type": "code",
   "execution_count": null,
   "id": "1f0b9858",
   "metadata": {},
   "outputs": [],
   "source": [
    "# List Comprehension Example 10\n",
    "squares = [x**2 for x in range(20) if x % 2 == 0]  # Only even numbers"
   ]
  },
  {
   "cell_type": "code",
   "execution_count": null,
   "id": "70d4538d",
   "metadata": {},
   "outputs": [],
   "source": [
    "# List Comprehension Example 11\n",
    "squares = [x**2 for x in range(22) if x % 2 == 0]  # Only even numbers"
   ]
  },
  {
   "cell_type": "code",
   "execution_count": null,
   "id": "9e482e19",
   "metadata": {},
   "outputs": [],
   "source": [
    "# List Comprehension Example 12\n",
    "squares = [x**2 for x in range(24) if x % 2 == 0]  # Only even numbers"
   ]
  },
  {
   "cell_type": "code",
   "execution_count": null,
   "id": "e8c268a4",
   "metadata": {},
   "outputs": [],
   "source": [
    "# List Comprehension Example 13\n",
    "squares = [x**2 for x in range(26) if x % 2 == 0]  # Only even numbers"
   ]
  },
  {
   "cell_type": "code",
   "execution_count": null,
   "id": "a109cfa0",
   "metadata": {},
   "outputs": [],
   "source": [
    "# List Comprehension Example 14\n",
    "squares = [x**2 for x in range(28) if x % 2 == 0]  # Only even numbers"
   ]
  },
  {
   "cell_type": "code",
   "execution_count": null,
   "id": "b70d82c6",
   "metadata": {},
   "outputs": [],
   "source": [
    "# List Comprehension Example 15\n",
    "squares = [x**2 for x in range(30) if x % 2 == 0]  # Only even numbers"
   ]
  },
  {
   "cell_type": "code",
   "execution_count": null,
   "id": "f7fa16d5",
   "metadata": {},
   "outputs": [],
   "source": [
    "# List Comprehension Example 16\n",
    "squares = [x**2 for x in range(32) if x % 2 == 0]  # Only even numbers"
   ]
  },
  {
   "cell_type": "code",
   "execution_count": null,
   "id": "52f8d4b1",
   "metadata": {},
   "outputs": [],
   "source": [
    "# List Comprehension Example 17\n",
    "squares = [x**2 for x in range(34) if x % 2 == 0]  # Only even numbers"
   ]
  },
  {
   "cell_type": "code",
   "execution_count": null,
   "id": "b8dc5cfa",
   "metadata": {},
   "outputs": [],
   "source": [
    "# List Comprehension Example 18\n",
    "squares = [x**2 for x in range(36) if x % 2 == 0]  # Only even numbers"
   ]
  },
  {
   "cell_type": "code",
   "execution_count": null,
   "id": "046fa2a9",
   "metadata": {},
   "outputs": [],
   "source": [
    "# List Comprehension Example 19\n",
    "squares = [x**2 for x in range(38) if x % 2 == 0]  # Only even numbers"
   ]
  },
  {
   "cell_type": "code",
   "execution_count": null,
   "id": "938280eb",
   "metadata": {},
   "outputs": [],
   "source": [
    "# List Comprehension Example 20\n",
    "squares = [x**2 for x in range(40) if x % 2 == 0]  # Only even numbers"
   ]
  },
  {
   "cell_type": "code",
   "execution_count": null,
   "id": "92564131",
   "metadata": {},
   "outputs": [],
   "source": [
    "# Dict Comprehension Example 21\n",
    "square_dict = {x: x**2 for x in range(21) if x % 2 != 0}  # Only odd keys"
   ]
  },
  {
   "cell_type": "code",
   "execution_count": null,
   "id": "01d5b22c",
   "metadata": {},
   "outputs": [],
   "source": [
    "# Dict Comprehension Example 22\n",
    "square_dict = {x: x**2 for x in range(22) if x % 2 != 0}  # Only odd keys"
   ]
  },
  {
   "cell_type": "code",
   "execution_count": null,
   "id": "ebbd4e76",
   "metadata": {},
   "outputs": [],
   "source": [
    "# Dict Comprehension Example 23\n",
    "square_dict = {x: x**2 for x in range(23) if x % 2 != 0}  # Only odd keys"
   ]
  },
  {
   "cell_type": "code",
   "execution_count": null,
   "id": "0b0789a9",
   "metadata": {},
   "outputs": [],
   "source": [
    "# Dict Comprehension Example 24\n",
    "square_dict = {x: x**2 for x in range(24) if x % 2 != 0}  # Only odd keys"
   ]
  },
  {
   "cell_type": "code",
   "execution_count": null,
   "id": "8d2312ab",
   "metadata": {},
   "outputs": [],
   "source": [
    "# Dict Comprehension Example 25\n",
    "square_dict = {x: x**2 for x in range(25) if x % 2 != 0}  # Only odd keys"
   ]
  },
  {
   "cell_type": "code",
   "execution_count": null,
   "id": "e310e47b",
   "metadata": {},
   "outputs": [],
   "source": [
    "# Dict Comprehension Example 26\n",
    "square_dict = {x: x**2 for x in range(26) if x % 2 != 0}  # Only odd keys"
   ]
  },
  {
   "cell_type": "code",
   "execution_count": null,
   "id": "ab8ba9c5",
   "metadata": {},
   "outputs": [],
   "source": [
    "# Dict Comprehension Example 27\n",
    "square_dict = {x: x**2 for x in range(27) if x % 2 != 0}  # Only odd keys"
   ]
  },
  {
   "cell_type": "code",
   "execution_count": null,
   "id": "80ab8c31",
   "metadata": {},
   "outputs": [],
   "source": [
    "# Dict Comprehension Example 28\n",
    "square_dict = {x: x**2 for x in range(28) if x % 2 != 0}  # Only odd keys"
   ]
  },
  {
   "cell_type": "code",
   "execution_count": null,
   "id": "a4263afc",
   "metadata": {},
   "outputs": [],
   "source": [
    "# Dict Comprehension Example 29\n",
    "square_dict = {x: x**2 for x in range(29) if x % 2 != 0}  # Only odd keys"
   ]
  },
  {
   "cell_type": "code",
   "execution_count": null,
   "id": "cf5555e1",
   "metadata": {},
   "outputs": [],
   "source": [
    "# Dict Comprehension Example 30\n",
    "square_dict = {x: x**2 for x in range(30) if x % 2 != 0}  # Only odd keys"
   ]
  },
  {
   "cell_type": "code",
   "execution_count": null,
   "id": "f9e6fef8",
   "metadata": {},
   "outputs": [],
   "source": [
    "# Dict Comprehension Example 31\n",
    "square_dict = {x: x**2 for x in range(31) if x % 2 != 0}  # Only odd keys"
   ]
  },
  {
   "cell_type": "code",
   "execution_count": null,
   "id": "f1ab016f",
   "metadata": {},
   "outputs": [],
   "source": [
    "# Dict Comprehension Example 32\n",
    "square_dict = {x: x**2 for x in range(32) if x % 2 != 0}  # Only odd keys"
   ]
  },
  {
   "cell_type": "code",
   "execution_count": null,
   "id": "362df490",
   "metadata": {},
   "outputs": [],
   "source": [
    "# Dict Comprehension Example 33\n",
    "square_dict = {x: x**2 for x in range(33) if x % 2 != 0}  # Only odd keys"
   ]
  },
  {
   "cell_type": "code",
   "execution_count": null,
   "id": "3116e614",
   "metadata": {},
   "outputs": [],
   "source": [
    "# Dict Comprehension Example 34\n",
    "square_dict = {x: x**2 for x in range(34) if x % 2 != 0}  # Only odd keys"
   ]
  },
  {
   "cell_type": "code",
   "execution_count": null,
   "id": "a5e5830a",
   "metadata": {},
   "outputs": [],
   "source": [
    "# Dict Comprehension Example 35\n",
    "square_dict = {x: x**2 for x in range(35) if x % 2 != 0}  # Only odd keys"
   ]
  },
  {
   "cell_type": "code",
   "execution_count": null,
   "id": "77fb11b7",
   "metadata": {},
   "outputs": [],
   "source": [
    "# Set Comprehension Example 36\n",
    "unique_lengths = {len(word) for word in ['apple', 'banana', 'cherry', 'apple'] if len(word) > 1}  # Unique lengths > 1"
   ]
  },
  {
   "cell_type": "code",
   "execution_count": null,
   "id": "a22fecab",
   "metadata": {},
   "outputs": [],
   "source": [
    "# Set Comprehension Example 37\n",
    "unique_lengths = {len(word) for word in ['apple', 'banana', 'cherry', 'apple'] if len(word) > 2}  # Unique lengths > 2"
   ]
  },
  {
   "cell_type": "code",
   "execution_count": null,
   "id": "3700612d",
   "metadata": {},
   "outputs": [],
   "source": [
    "# Set Comprehension Example 38\n",
    "unique_lengths = {len(word) for word in ['apple', 'banana', 'cherry', 'apple'] if len(word) > 3}  # Unique lengths > 3"
   ]
  },
  {
   "cell_type": "code",
   "execution_count": null,
   "id": "c56a2c95",
   "metadata": {},
   "outputs": [],
   "source": [
    "# Set Comprehension Example 39\n",
    "unique_lengths = {len(word) for word in ['apple', 'banana', 'cherry', 'apple'] if len(word) > 4}  # Unique lengths > 4"
   ]
  },
  {
   "cell_type": "code",
   "execution_count": null,
   "id": "da696ea9",
   "metadata": {},
   "outputs": [],
   "source": [
    "# Set Comprehension Example 40\n",
    "unique_lengths = {len(word) for word in ['apple', 'banana', 'cherry', 'apple'] if len(word) > 0}  # Unique lengths > 0"
   ]
  },
  {
   "cell_type": "code",
   "execution_count": null,
   "id": "988b661b",
   "metadata": {},
   "outputs": [],
   "source": [
    "# Set Comprehension Example 41\n",
    "unique_lengths = {len(word) for word in ['apple', 'banana', 'cherry', 'apple'] if len(word) > 1}  # Unique lengths > 1"
   ]
  },
  {
   "cell_type": "code",
   "execution_count": null,
   "id": "7fabaf68",
   "metadata": {},
   "outputs": [],
   "source": [
    "# Set Comprehension Example 42\n",
    "unique_lengths = {len(word) for word in ['apple', 'banana', 'cherry', 'apple'] if len(word) > 2}  # Unique lengths > 2"
   ]
  },
  {
   "cell_type": "code",
   "execution_count": null,
   "id": "c6896ce4",
   "metadata": {},
   "outputs": [],
   "source": [
    "# Set Comprehension Example 43\n",
    "unique_lengths = {len(word) for word in ['apple', 'banana', 'cherry', 'apple'] if len(word) > 3}  # Unique lengths > 3"
   ]
  },
  {
   "cell_type": "code",
   "execution_count": null,
   "id": "28a4956d",
   "metadata": {},
   "outputs": [],
   "source": [
    "# Set Comprehension Example 44\n",
    "unique_lengths = {len(word) for word in ['apple', 'banana', 'cherry', 'apple'] if len(word) > 4}  # Unique lengths > 4"
   ]
  },
  {
   "cell_type": "code",
   "execution_count": null,
   "id": "d0e700be",
   "metadata": {},
   "outputs": [],
   "source": [
    "# Set Comprehension Example 45\n",
    "unique_lengths = {len(word) for word in ['apple', 'banana', 'cherry', 'apple'] if len(word) > 0}  # Unique lengths > 0"
   ]
  },
  {
   "cell_type": "code",
   "execution_count": null,
   "id": "22c5c635",
   "metadata": {},
   "outputs": [],
   "source": [
    "# Set Comprehension Example 46\n",
    "unique_lengths = {len(word) for word in ['apple', 'banana', 'cherry', 'apple'] if len(word) > 1}  # Unique lengths > 1"
   ]
  },
  {
   "cell_type": "code",
   "execution_count": null,
   "id": "9d03ab48",
   "metadata": {},
   "outputs": [],
   "source": [
    "# Set Comprehension Example 47\n",
    "unique_lengths = {len(word) for word in ['apple', 'banana', 'cherry', 'apple'] if len(word) > 2}  # Unique lengths > 2"
   ]
  },
  {
   "cell_type": "code",
   "execution_count": null,
   "id": "529bd590",
   "metadata": {},
   "outputs": [],
   "source": [
    "# Set Comprehension Example 48\n",
    "unique_lengths = {len(word) for word in ['apple', 'banana', 'cherry', 'apple'] if len(word) > 3}  # Unique lengths > 3"
   ]
  },
  {
   "cell_type": "code",
   "execution_count": null,
   "id": "1bb3e547",
   "metadata": {},
   "outputs": [],
   "source": [
    "# Set Comprehension Example 49\n",
    "unique_lengths = {len(word) for word in ['apple', 'banana', 'cherry', 'apple'] if len(word) > 4}  # Unique lengths > 4"
   ]
  },
  {
   "cell_type": "code",
   "execution_count": null,
   "id": "72b703b9",
   "metadata": {},
   "outputs": [],
   "source": [
    "# Set Comprehension Example 50\n",
    "unique_lengths = {len(word) for word in ['apple', 'banana', 'cherry', 'apple'] if len(word) > 0}  # Unique lengths > 0"
   ]
  }
 ],
 "metadata": {
  "language_info": {
   "name": "python"
  }
 },
 "nbformat": 4,
 "nbformat_minor": 5
}
