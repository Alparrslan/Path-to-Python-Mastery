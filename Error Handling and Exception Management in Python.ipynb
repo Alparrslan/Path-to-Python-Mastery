{
 "cells": [
  {
   "cell_type": "markdown",
   "id": "ea4ba16a",
   "metadata": {},
   "source": [
    "# Error Handling and Exception Management in Python"
   ]
  },
  {
   "cell_type": "code",
   "execution_count": 2,
   "metadata": {},
   "outputs": [],
   "source": [
    "def divide(a, b):\n",
    "    return a / b"
   ]
  },
  {
   "cell_type": "code",
   "execution_count": 3,
   "id": "8d2d7652",
   "metadata": {},
   "outputs": [
    {
     "name": "stdout",
     "output_type": "stream",
     "text": [
      "Cannot divide by zero.\n"
     ]
    }
   ],
   "source": [
    "try:\n",
    "    result = divide(10, 0)\n",
    "except ZeroDivisionError:\n",
    "    print(\"Cannot divide by zero.\")"
   ]
  },
  {
   "cell_type": "code",
   "execution_count": 4,
   "id": "6e1a079e",
   "metadata": {},
   "outputs": [
    {
     "name": "stdout",
     "output_type": "stream",
     "text": [
      "5.0\n"
     ]
    }
   ],
   "source": [
    "try:\n",
    "    result = divide(10, 2)\n",
    "    print(result)\n",
    "except ZeroDivisionError:\n",
    "    print(\"Division error.\")"
   ]
  },
  {
   "cell_type": "code",
   "execution_count": 5,
   "id": "7624138a",
   "metadata": {},
   "outputs": [],
   "source": [
    "def get_integer():\n",
    "    return int(input(\"Enter an integer: \"))"
   ]
  },
  {
   "cell_type": "code",
   "execution_count": 6,
   "id": "997079cb",
   "metadata": {},
   "outputs": [],
   "source": [
    "try:\n",
    "    num = get_integer()\n",
    "except ValueError:\n",
    "    print(\"Invalid input. Please enter a valid integer.\")"
   ]
  },
  {
   "cell_type": "code",
   "execution_count": 7,
   "id": "e86783c7",
   "metadata": {},
   "outputs": [
    {
     "name": "stdout",
     "output_type": "stream",
     "text": [
      "Error: invalid literal for int() with base 10: 'abc'\n"
     ]
    }
   ],
   "source": [
    "try:\n",
    "    num = int(\"abc\")\n",
    "except ValueError as e:\n",
    "    print(\"Error:\", e)"
   ]
  },
  {
   "cell_type": "code",
   "execution_count": 8,
   "id": "8a46d90d",
   "metadata": {},
   "outputs": [
    {
     "name": "stdout",
     "output_type": "stream",
     "text": [
      "100\n"
     ]
    }
   ],
   "source": [
    "try:\n",
    "    num = int(\"100\")\n",
    "    print(num)\n",
    "except ValueError:\n",
    "    print(\"Invalid number.\")"
   ]
  },
  {
   "cell_type": "code",
   "execution_count": 9,
   "id": "244b804c",
   "metadata": {},
   "outputs": [
    {
     "name": "stdout",
     "output_type": "stream",
     "text": [
      "General Exception: division by zero\n"
     ]
    }
   ],
   "source": [
    "try:\n",
    "    result = 10 / 0\n",
    "except Exception as e:\n",
    "    print(\"General Exception:\", e)"
   ]
  },
  {
   "cell_type": "code",
   "execution_count": 10,
   "id": "6c3aeb48",
   "metadata": {},
   "outputs": [
    {
     "name": "stdout",
     "output_type": "stream",
     "text": [
      "Zero Division: division by zero\n",
      "Execution completed.\n"
     ]
    }
   ],
   "source": [
    "try:\n",
    "    result = 10 / 0\n",
    "except ZeroDivisionError as zde:\n",
    "    print(\"Zero Division:\", zde)\n",
    "finally:\n",
    "    print(\"Execution completed.\")"
   ]
  },
  {
   "cell_type": "code",
   "execution_count": 11,
   "id": "8b458971",
   "metadata": {},
   "outputs": [
    {
     "name": "stdout",
     "output_type": "stream",
     "text": [
      "Success: 5.0\n"
     ]
    }
   ],
   "source": [
    "try:\n",
    "    result = 10 / 2\n",
    "except ZeroDivisionError:\n",
    "    print(\"Error\")\n",
    "else:\n",
    "    print(\"Success:\", result)"
   ]
  },
  {
   "cell_type": "code",
   "execution_count": 12,
   "id": "be0f3a77",
   "metadata": {},
   "outputs": [],
   "source": [
    "def safe_divide(a, b):\n",
    "    try:\n",
    "        return a / b\n",
    "    except ZeroDivisionError:\n",
    "        return \"Division by zero\"\n",
    "    finally:\n",
    "        print(\"safe_divide called\")"
   ]
  },
  {
   "cell_type": "code",
   "execution_count": 13,
   "id": "15c79769",
   "metadata": {},
   "outputs": [
    {
     "name": "stdout",
     "output_type": "stream",
     "text": [
      "safe_divide called\n",
      "Division by zero\n"
     ]
    }
   ],
   "source": [
    "print(safe_divide(10, 0))"
   ]
  },
  {
   "cell_type": "code",
   "execution_count": 14,
   "id": "bd02c226",
   "metadata": {},
   "outputs": [
    {
     "name": "stdout",
     "output_type": "stream",
     "text": [
      "safe_divide called\n",
      "2.0\n"
     ]
    }
   ],
   "source": [
    "print(safe_divide(10, 5))"
   ]
  },
  {
   "cell_type": "code",
   "execution_count": 15,
   "id": "975929b6",
   "metadata": {},
   "outputs": [],
   "source": [
    "def input_integer():\n",
    "    while True:\n",
    "        try:\n",
    "            return int(input(\"Enter number: \"))\n",
    "        except ValueError:\n",
    "            print(\"Try again.\")"
   ]
  },
  {
   "cell_type": "markdown",
   "id": "7e2c1e43",
   "metadata": {},
   "source": [
    "#### Skipping actual input for this code example"
   ]
  },
  {
   "cell_type": "code",
   "execution_count": 17,
   "id": "5286530f",
   "metadata": {},
   "outputs": [],
   "source": [
    "data = [10, 0, \"a\", 5]"
   ]
  },
  {
   "cell_type": "code",
   "execution_count": 18,
   "id": "cb9713a2",
   "metadata": {},
   "outputs": [
    {
     "name": "stdout",
     "output_type": "stream",
     "text": [
      "10.0\n",
      "Handled: division by zero\n",
      "Handled: invalid literal for int() with base 10: 'a'\n",
      "20.0\n"
     ]
    }
   ],
   "source": [
    "for item in data:\n",
    "    try:\n",
    "        print(100 / int(item))\n",
    "    except (ZeroDivisionError, ValueError) as e:\n",
    "        print(\"Handled:\", e)"
   ]
  },
  {
   "cell_type": "code",
   "execution_count": 19,
   "id": "90545725",
   "metadata": {},
   "outputs": [
    {
     "name": "stdout",
     "output_type": "stream",
     "text": [
      "Index Error: list index out of range\n"
     ]
    }
   ],
   "source": [
    "\n",
    "try:\n",
    "    lst = [1, 2, 3]\n",
    "    print(lst[5])\n",
    "except IndexError as e:\n",
    "    print(\"Index Error:\", e)"
   ]
  },
  {
   "cell_type": "code",
   "execution_count": 20,
   "id": "9d20876a",
   "metadata": {},
   "outputs": [
    {
     "name": "stdout",
     "output_type": "stream",
     "text": [
      "Key Error: 'b'\n"
     ]
    }
   ],
   "source": [
    "try:\n",
    "    dct = {\"a\": 1}\n",
    "    print(dct[\"b\"])\n",
    "except KeyError as e:\n",
    "    print(\"Key Error:\", e)"
   ]
  },
  {
   "cell_type": "code",
   "execution_count": 21,
   "id": "30bb91a0",
   "metadata": {},
   "outputs": [
    {
     "name": "stdout",
     "output_type": "stream",
     "text": [
      "File Not Found: [Errno 2] No such file or directory: 'nonexistent.txt'\n"
     ]
    }
   ],
   "source": [
    "try:\n",
    "    open(\"nonexistent.txt\")\n",
    "except FileNotFoundError as e:\n",
    "    print(\"File Not Found:\", e)"
   ]
  },
  {
   "cell_type": "code",
   "execution_count": 22,
   "id": "9a5e6dd8",
   "metadata": {},
   "outputs": [],
   "source": [
    "try:\n",
    "    with open(\"nonexistent.txt\") as f:\n",
    "        content = f.read()\n",
    "except FileNotFoundError:\n",
    "    content = \"default content\""
   ]
  },
  {
   "cell_type": "code",
   "execution_count": 23,
   "id": "91efc1e9",
   "metadata": {},
   "outputs": [
    {
     "name": "stdout",
     "output_type": "stream",
     "text": [
      "default content\n"
     ]
    }
   ],
   "source": [
    "print(content)"
   ]
  },
  {
   "cell_type": "code",
   "execution_count": 24,
   "id": "f44a7195",
   "metadata": {},
   "outputs": [],
   "source": [
    "def read_file(filename):\n",
    "    try:\n",
    "        with open(filename) as f:\n",
    "            return f.read()\n",
    "    except FileNotFoundError:\n",
    "        return \"File not found.\""
   ]
  },
  {
   "cell_type": "code",
   "execution_count": 25,
   "id": "fe9a635a",
   "metadata": {},
   "outputs": [
    {
     "name": "stdout",
     "output_type": "stream",
     "text": [
      "File not found.\n"
     ]
    }
   ],
   "source": [
    "print(read_file(\"missing.txt\"))"
   ]
  },
  {
   "cell_type": "code",
   "execution_count": 26,
   "id": "4c4399b8",
   "metadata": {},
   "outputs": [],
   "source": [
    "def parse_age(age):\n",
    "    try:\n",
    "        age_int = int(age)\n",
    "        if age_int < 0:\n",
    "            raise ValueError(\"Negative age\")\n",
    "        return age_int\n",
    "    except ValueError as e:\n",
    "        return f\"Invalid age: {e}\""
   ]
  },
  {
   "cell_type": "code",
   "execution_count": 27,
   "id": "d7ec7c75",
   "metadata": {},
   "outputs": [
    {
     "name": "stdout",
     "output_type": "stream",
     "text": [
      "25\n"
     ]
    }
   ],
   "source": [
    "print(parse_age(\"25\"))\n"
   ]
  },
  {
   "cell_type": "code",
   "execution_count": 28,
   "id": "ab03c636",
   "metadata": {},
   "outputs": [
    {
     "name": "stdout",
     "output_type": "stream",
     "text": [
      "Invalid age: Negative age\n"
     ]
    }
   ],
   "source": [
    "print(parse_age(\"-5\"))\n"
   ]
  },
  {
   "cell_type": "code",
   "execution_count": 29,
   "id": "497148d6",
   "metadata": {},
   "outputs": [
    {
     "name": "stdout",
     "output_type": "stream",
     "text": [
      "Invalid age: invalid literal for int() with base 10: 'abc'\n"
     ]
    }
   ],
   "source": [
    "print(parse_age(\"abc\"))\n"
   ]
  },
  {
   "cell_type": "code",
   "execution_count": 30,
   "id": "77a7b97e",
   "metadata": {},
   "outputs": [],
   "source": [
    "class MyError(Exception):\n",
    "    pass"
   ]
  },
  {
   "cell_type": "code",
   "execution_count": 31,
   "id": "8657ba7c",
   "metadata": {},
   "outputs": [],
   "source": [
    "def trigger_custom_error(value):\n",
    "    if value == \"bad\":\n",
    "        raise MyError(\"Bad value detected\")\n",
    "    return \"OK\""
   ]
  },
  {
   "cell_type": "code",
   "execution_count": 32,
   "id": "02ce69a1",
   "metadata": {},
   "outputs": [
    {
     "name": "stdout",
     "output_type": "stream",
     "text": [
      "Caught custom error: Bad value detected\n"
     ]
    }
   ],
   "source": [
    "try:\n",
    "    print(trigger_custom_error(\"bad\"))\n",
    "except MyError as e:\n",
    "    print(\"Caught custom error:\", e)"
   ]
  },
  {
   "cell_type": "code",
   "execution_count": 33,
   "id": "0f631df7",
   "metadata": {},
   "outputs": [
    {
     "name": "stdout",
     "output_type": "stream",
     "text": [
      "OK\n"
     ]
    }
   ],
   "source": [
    "try:\n",
    "    print(trigger_custom_error(\"good\"))\n",
    "except MyError:\n",
    "    print(\"Error\")"
   ]
  },
  {
   "cell_type": "code",
   "execution_count": 34,
   "id": "2864398c",
   "metadata": {},
   "outputs": [],
   "source": [
    "def safe_input(prompt):\n",
    "    try:\n",
    "        return input(prompt)\n",
    "    except EOFError:\n",
    "        return \"No input\""
   ]
  },
  {
   "cell_type": "code",
   "execution_count": 35,
   "id": "199b666b",
   "metadata": {},
   "outputs": [],
   "source": [
    "# Skipping input for code demo"
   ]
  },
  {
   "cell_type": "code",
   "execution_count": 36,
   "id": "eda5a5c8",
   "metadata": {},
   "outputs": [
    {
     "name": "stdout",
     "output_type": "stream",
     "text": [
      "42\n"
     ]
    }
   ],
   "source": [
    "try:\n",
    "    number = int(\"42\")\n",
    "    print(number)\n",
    "except:\n",
    "    print(\"Generic error\")  # Not recommended"
   ]
  },
  {
   "cell_type": "code",
   "execution_count": 37,
   "id": "da96f688",
   "metadata": {},
   "outputs": [
    {
     "name": "stdout",
     "output_type": "stream",
     "text": [
      "Manual: Manual trigger\n"
     ]
    }
   ],
   "source": [
    "try:\n",
    "    raise ValueError(\"Manual trigger\")\n",
    "except ValueError as e:\n",
    "    print(\"Manual:\", e)"
   ]
  },
  {
   "cell_type": "code",
   "execution_count": 38,
   "id": "367f793f",
   "metadata": {},
   "outputs": [
    {
     "name": "stdout",
     "output_type": "stream",
     "text": [
      "Manual ZDE: Div by zero\n"
     ]
    }
   ],
   "source": [
    "try:\n",
    "    raise ZeroDivisionError(\"Div by zero\")\n",
    "except ZeroDivisionError as e:\n",
    "    print(\"Manual ZDE:\", e)"
   ]
  },
  {
   "cell_type": "code",
   "execution_count": 39,
   "id": "1d646952",
   "metadata": {},
   "outputs": [],
   "source": [
    "def process(value):\n",
    "    try:\n",
    "        if not isinstance(value, int):\n",
    "            raise TypeError(\"Not an int\")\n",
    "        return value * 2\n",
    "    except TypeError as e:\n",
    "        return f\"Type Error: {e}\""
   ]
  },
  {
   "cell_type": "code",
   "execution_count": 40,
   "id": "ad8c43f9",
   "metadata": {},
   "outputs": [
    {
     "name": "stdout",
     "output_type": "stream",
     "text": [
      "Type Error: Not an int\n"
     ]
    }
   ],
   "source": [
    "print(process(\"abc\"))\n"
   ]
  },
  {
   "cell_type": "code",
   "execution_count": 41,
   "id": "ba13a41d",
   "metadata": {},
   "outputs": [
    {
     "name": "stdout",
     "output_type": "stream",
     "text": [
      "20\n"
     ]
    }
   ],
   "source": [
    "print(process(10))\n"
   ]
  },
  {
   "cell_type": "code",
   "execution_count": 42,
   "id": "0bbc771a",
   "metadata": {},
   "outputs": [
    {
     "name": "stderr",
     "output_type": "stream",
     "text": [
      "Traceback (most recent call last):\n",
      "  File \"C:\\Users\\Pacta\\AppData\\Local\\Temp\\ipykernel_10704\\1829788729.py\", line 2, in <module>\n",
      "    result = 1 / 0\n",
      "             ~~^~~\n",
      "ZeroDivisionError: division by zero\n"
     ]
    }
   ],
   "source": [
    "try:\n",
    "    result = 1 / 0\n",
    "except:\n",
    "    import traceback\n",
    "    traceback.print_exc()"
   ]
  },
  {
   "cell_type": "code",
   "execution_count": 43,
   "id": "f67aefda",
   "metadata": {},
   "outputs": [],
   "source": [
    "\n",
    "def validate_score(score):\n",
    "    if score < 0 or score > 100:\n",
    "        raise ValueError(\"Score out of range\")\n",
    "    return score"
   ]
  },
  {
   "cell_type": "code",
   "execution_count": 44,
   "id": "de5c07e6",
   "metadata": {},
   "outputs": [
    {
     "name": "stdout",
     "output_type": "stream",
     "text": [
      "Score error: Score out of range\n"
     ]
    }
   ],
   "source": [
    "try:\n",
    "    print(validate_score(150))\n",
    "except ValueError as e:\n",
    "    print(\"Score error:\", e)"
   ]
  },
  {
   "cell_type": "code",
   "execution_count": 45,
   "id": "043f0178",
   "metadata": {},
   "outputs": [
    {
     "name": "stdout",
     "output_type": "stream",
     "text": [
      "Assertion: Math is wrong\n"
     ]
    }
   ],
   "source": [
    "try:\n",
    "    assert 2 + 2 == 5, \"Math is wrong\"\n",
    "except AssertionError as e:\n",
    "    print(\"Assertion:\", e)"
   ]
  },
  {
   "cell_type": "code",
   "execution_count": 46,
   "id": "411a3a28",
   "metadata": {},
   "outputs": [
    {
     "name": "stdout",
     "output_type": "stream",
     "text": [
      "Math domain error: math domain error\n"
     ]
    }
   ],
   "source": [
    "try:\n",
    "    import math\n",
    "    print(math.sqrt(-1))\n",
    "except ValueError as e:\n",
    "    print(\"Math domain error:\", e)"
   ]
  },
  {
   "cell_type": "code",
   "execution_count": 47,
   "id": "e52a1721",
   "metadata": {},
   "outputs": [
    {
     "name": "stdout",
     "output_type": "stream",
     "text": [
      "ValueError: invalid literal for int() with base 10: '10.5'\n"
     ]
    }
   ],
   "source": [
    "try:\n",
    "    int(\"10.5\")\n",
    "except ValueError as e:\n",
    "    print(\"ValueError:\", e)\n"
   ]
  },
  {
   "cell_type": "code",
   "execution_count": 48,
   "id": "0468a332",
   "metadata": {},
   "outputs": [
    {
     "name": "stdout",
     "output_type": "stream",
     "text": [
      "Module error: No module named 'nonexistentmodule'\n"
     ]
    }
   ],
   "source": [
    "try:\n",
    "    import nonexistentmodule\n",
    "except ModuleNotFoundError as e:\n",
    "    print(\"Module error:\", e)"
   ]
  },
  {
   "cell_type": "code",
   "execution_count": 49,
   "id": "56c2b287",
   "metadata": {},
   "outputs": [],
   "source": [
    "\n",
    "def risky_operation():\n",
    "    raise RuntimeError(\"Something went wrong\")"
   ]
  },
  {
   "cell_type": "code",
   "execution_count": 50,
   "id": "b2e6d35c",
   "metadata": {},
   "outputs": [
    {
     "name": "stdout",
     "output_type": "stream",
     "text": [
      "RuntimeError: Something went wrong\n"
     ]
    }
   ],
   "source": [
    "try:\n",
    "    risky_operation()\n",
    "except RuntimeError as e:\n",
    "    print(\"RuntimeError:\", e)"
   ]
  }
 ],
 "metadata": {
  "kernelspec": {
   "display_name": "Python 3",
   "language": "python",
   "name": "python3"
  },
  "language_info": {
   "codemirror_mode": {
    "name": "ipython",
    "version": 3
   },
   "file_extension": ".py",
   "mimetype": "text/x-python",
   "name": "python",
   "nbconvert_exporter": "python",
   "pygments_lexer": "ipython3",
   "version": "3.12.6"
  }
 },
 "nbformat": 4,
 "nbformat_minor": 5
}
